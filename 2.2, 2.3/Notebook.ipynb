{
 "cells": [
  {
   "cell_type": "markdown",
   "metadata": {},
   "source": [
    "# Изучение спектров атомов вотодора и молекулы йода\n",
    "### Бутаков Иван, Гладков Андрей; Б05-873\n",
    "\n",
    "В работе изучаются сериальные закономерности в оптическом спектре водорода, спектр поглощения паров йода в видимой области."
   ]
  },
  {
   "cell_type": "markdown",
   "metadata": {},
   "source": [
    "## Импортирование данных"
   ]
  },
  {
   "cell_type": "code",
   "execution_count": 1,
   "metadata": {},
   "outputs": [],
   "source": [
    "import pandas\n",
    "import numpy\n",
    "\n",
    "# Градуировка.\n",
    "neon = pandas.read_csv('neon.csv', sep = ' ', header = 0, dtype = numpy.float64)\n",
    "mercury = pandas.read_csv('mercury.csv', sep = ' ', header = 0, dtype = numpy.float64)\n",
    "\n",
    "# Данные барабана.\n",
    "hydrogen = pandas.read_csv('hydrogen.csv', sep = ' ', header = 0, dtype = numpy.float64)\n",
    "iodine = pandas.read_csv('iodine.csv', sep = ' ', header = 0, dtype = numpy.float64)"
   ]
  },
  {
   "cell_type": "code",
   "execution_count": 2,
   "metadata": {},
   "outputs": [
    {
     "data": {
      "text/html": [
       "<div>\n",
       "<style scoped>\n",
       "    .dataframe tbody tr th:only-of-type {\n",
       "        vertical-align: middle;\n",
       "    }\n",
       "\n",
       "    .dataframe tbody tr th {\n",
       "        vertical-align: top;\n",
       "    }\n",
       "\n",
       "    .dataframe thead th {\n",
       "        text-align: right;\n",
       "    }\n",
       "</style>\n",
       "<table border=\"1\" class=\"dataframe\">\n",
       "  <thead>\n",
       "    <tr style=\"text-align: right;\">\n",
       "      <th></th>\n",
       "      <th>lambda</th>\n",
       "      <th>x</th>\n",
       "    </tr>\n",
       "  </thead>\n",
       "  <tbody>\n",
       "    <tr>\n",
       "      <th>0</th>\n",
       "      <td>7032.41</td>\n",
       "      <td>2608.0</td>\n",
       "    </tr>\n",
       "    <tr>\n",
       "      <th>1</th>\n",
       "      <td>6929.47</td>\n",
       "      <td>2570.0</td>\n",
       "    </tr>\n",
       "    <tr>\n",
       "      <th>2</th>\n",
       "      <td>6717.04</td>\n",
       "      <td>2504.0</td>\n",
       "    </tr>\n",
       "    <tr>\n",
       "      <th>3</th>\n",
       "      <td>6678.28</td>\n",
       "      <td>2486.0</td>\n",
       "    </tr>\n",
       "    <tr>\n",
       "      <th>4</th>\n",
       "      <td>6598.95</td>\n",
       "      <td>2464.0</td>\n",
       "    </tr>\n",
       "    <tr>\n",
       "      <th>5</th>\n",
       "      <td>6532.88</td>\n",
       "      <td>2438.0</td>\n",
       "    </tr>\n",
       "    <tr>\n",
       "      <th>6</th>\n",
       "      <td>6506.53</td>\n",
       "      <td>2430.0</td>\n",
       "    </tr>\n",
       "    <tr>\n",
       "      <th>7</th>\n",
       "      <td>6402.24</td>\n",
       "      <td>2390.0</td>\n",
       "    </tr>\n",
       "    <tr>\n",
       "      <th>8</th>\n",
       "      <td>6382.99</td>\n",
       "      <td>2384.0</td>\n",
       "    </tr>\n",
       "    <tr>\n",
       "      <th>9</th>\n",
       "      <td>6334.42</td>\n",
       "      <td>2364.0</td>\n",
       "    </tr>\n",
       "    <tr>\n",
       "      <th>10</th>\n",
       "      <td>6304.79</td>\n",
       "      <td>2352.0</td>\n",
       "    </tr>\n",
       "    <tr>\n",
       "      <th>11</th>\n",
       "      <td>6266.49</td>\n",
       "      <td>2336.0</td>\n",
       "    </tr>\n",
       "    <tr>\n",
       "      <th>12</th>\n",
       "      <td>6217.28</td>\n",
       "      <td>2318.0</td>\n",
       "    </tr>\n",
       "    <tr>\n",
       "      <th>13</th>\n",
       "      <td>6163.59</td>\n",
       "      <td>2294.0</td>\n",
       "    </tr>\n",
       "    <tr>\n",
       "      <th>14</th>\n",
       "      <td>6143.06</td>\n",
       "      <td>2286.0</td>\n",
       "    </tr>\n",
       "    <tr>\n",
       "      <th>15</th>\n",
       "      <td>6096.14</td>\n",
       "      <td>2262.0</td>\n",
       "    </tr>\n",
       "    <tr>\n",
       "      <th>16</th>\n",
       "      <td>6074.34</td>\n",
       "      <td>2254.0</td>\n",
       "    </tr>\n",
       "    <tr>\n",
       "      <th>17</th>\n",
       "      <td>6030.00</td>\n",
       "      <td>2236.0</td>\n",
       "    </tr>\n",
       "    <tr>\n",
       "      <th>18</th>\n",
       "      <td>5975.53</td>\n",
       "      <td>2210.0</td>\n",
       "    </tr>\n",
       "    <tr>\n",
       "      <th>19</th>\n",
       "      <td>5944.83</td>\n",
       "      <td>2194.0</td>\n",
       "    </tr>\n",
       "    <tr>\n",
       "      <th>20</th>\n",
       "      <td>5881.89</td>\n",
       "      <td>2164.0</td>\n",
       "    </tr>\n",
       "    <tr>\n",
       "      <th>21</th>\n",
       "      <td>5852.49</td>\n",
       "      <td>2148.0</td>\n",
       "    </tr>\n",
       "    <tr>\n",
       "      <th>22</th>\n",
       "      <td>5400.56</td>\n",
       "      <td>1890.0</td>\n",
       "    </tr>\n",
       "  </tbody>\n",
       "</table>\n",
       "</div>"
      ],
      "text/plain": [
       "     lambda       x\n",
       "0   7032.41  2608.0\n",
       "1   6929.47  2570.0\n",
       "2   6717.04  2504.0\n",
       "3   6678.28  2486.0\n",
       "4   6598.95  2464.0\n",
       "5   6532.88  2438.0\n",
       "6   6506.53  2430.0\n",
       "7   6402.24  2390.0\n",
       "8   6382.99  2384.0\n",
       "9   6334.42  2364.0\n",
       "10  6304.79  2352.0\n",
       "11  6266.49  2336.0\n",
       "12  6217.28  2318.0\n",
       "13  6163.59  2294.0\n",
       "14  6143.06  2286.0\n",
       "15  6096.14  2262.0\n",
       "16  6074.34  2254.0\n",
       "17  6030.00  2236.0\n",
       "18  5975.53  2210.0\n",
       "19  5944.83  2194.0\n",
       "20  5881.89  2164.0\n",
       "21  5852.49  2148.0\n",
       "22  5400.56  1890.0"
      ]
     },
     "execution_count": 2,
     "metadata": {},
     "output_type": "execute_result"
    }
   ],
   "source": [
    "neon"
   ]
  },
  {
   "cell_type": "code",
   "execution_count": 3,
   "metadata": {},
   "outputs": [
    {
     "data": {
      "text/html": [
       "<div>\n",
       "<style scoped>\n",
       "    .dataframe tbody tr th:only-of-type {\n",
       "        vertical-align: middle;\n",
       "    }\n",
       "\n",
       "    .dataframe tbody tr th {\n",
       "        vertical-align: top;\n",
       "    }\n",
       "\n",
       "    .dataframe thead th {\n",
       "        text-align: right;\n",
       "    }\n",
       "</style>\n",
       "<table border=\"1\" class=\"dataframe\">\n",
       "  <thead>\n",
       "    <tr style=\"text-align: right;\">\n",
       "      <th></th>\n",
       "      <th>lambda</th>\n",
       "      <th>x</th>\n",
       "    </tr>\n",
       "  </thead>\n",
       "  <tbody>\n",
       "    <tr>\n",
       "      <th>0</th>\n",
       "      <td>6907.26</td>\n",
       "      <td>2564.0</td>\n",
       "    </tr>\n",
       "    <tr>\n",
       "      <th>1</th>\n",
       "      <td>6771.85</td>\n",
       "      <td>2502.0</td>\n",
       "    </tr>\n",
       "    <tr>\n",
       "      <th>2</th>\n",
       "      <td>6233.51</td>\n",
       "      <td>2324.0</td>\n",
       "    </tr>\n",
       "    <tr>\n",
       "      <th>3</th>\n",
       "      <td>6100.43</td>\n",
       "      <td>2284.0</td>\n",
       "    </tr>\n",
       "    <tr>\n",
       "      <th>4</th>\n",
       "      <td>6000.69</td>\n",
       "      <td>2254.0</td>\n",
       "    </tr>\n",
       "    <tr>\n",
       "      <th>5</th>\n",
       "      <td>5790.67</td>\n",
       "      <td>2118.0</td>\n",
       "    </tr>\n",
       "    <tr>\n",
       "      <th>6</th>\n",
       "      <td>5770.14</td>\n",
       "      <td>2106.0</td>\n",
       "    </tr>\n",
       "    <tr>\n",
       "      <th>7</th>\n",
       "      <td>5460.75</td>\n",
       "      <td>1924.0</td>\n",
       "    </tr>\n",
       "    <tr>\n",
       "      <th>8</th>\n",
       "      <td>5290.74</td>\n",
       "      <td>1614.0</td>\n",
       "    </tr>\n",
       "    <tr>\n",
       "      <th>9</th>\n",
       "      <td>5137.94</td>\n",
       "      <td>1598.0</td>\n",
       "    </tr>\n",
       "    <tr>\n",
       "      <th>10</th>\n",
       "      <td>5102.71</td>\n",
       "      <td>1536.0</td>\n",
       "    </tr>\n",
       "    <tr>\n",
       "      <th>11</th>\n",
       "      <td>4916.07</td>\n",
       "      <td>1496.0</td>\n",
       "    </tr>\n",
       "    <tr>\n",
       "      <th>12</th>\n",
       "      <td>4358.34</td>\n",
       "      <td>828.0</td>\n",
       "    </tr>\n",
       "    <tr>\n",
       "      <th>13</th>\n",
       "      <td>4347.49</td>\n",
       "      <td>810.0</td>\n",
       "    </tr>\n",
       "    <tr>\n",
       "      <th>14</th>\n",
       "      <td>4339.22</td>\n",
       "      <td>794.0</td>\n",
       "    </tr>\n",
       "    <tr>\n",
       "      <th>15</th>\n",
       "      <td>4108.05</td>\n",
       "      <td>336.0</td>\n",
       "    </tr>\n",
       "    <tr>\n",
       "      <th>16</th>\n",
       "      <td>4046.57</td>\n",
       "      <td>270.0</td>\n",
       "    </tr>\n",
       "  </tbody>\n",
       "</table>\n",
       "</div>"
      ],
      "text/plain": [
       "     lambda       x\n",
       "0   6907.26  2564.0\n",
       "1   6771.85  2502.0\n",
       "2   6233.51  2324.0\n",
       "3   6100.43  2284.0\n",
       "4   6000.69  2254.0\n",
       "5   5790.67  2118.0\n",
       "6   5770.14  2106.0\n",
       "7   5460.75  1924.0\n",
       "8   5290.74  1614.0\n",
       "9   5137.94  1598.0\n",
       "10  5102.71  1536.0\n",
       "11  4916.07  1496.0\n",
       "12  4358.34   828.0\n",
       "13  4347.49   810.0\n",
       "14  4339.22   794.0\n",
       "15  4108.05   336.0\n",
       "16  4046.57   270.0"
      ]
     },
     "execution_count": 3,
     "metadata": {},
     "output_type": "execute_result"
    }
   ],
   "source": [
    "mercury"
   ]
  },
  {
   "cell_type": "code",
   "execution_count": 4,
   "metadata": {},
   "outputs": [
    {
     "data": {
      "text/html": [
       "<div>\n",
       "<style scoped>\n",
       "    .dataframe tbody tr th:only-of-type {\n",
       "        vertical-align: middle;\n",
       "    }\n",
       "\n",
       "    .dataframe tbody tr th {\n",
       "        vertical-align: top;\n",
       "    }\n",
       "\n",
       "    .dataframe thead th {\n",
       "        text-align: right;\n",
       "    }\n",
       "</style>\n",
       "<table border=\"1\" class=\"dataframe\">\n",
       "  <thead>\n",
       "    <tr style=\"text-align: right;\">\n",
       "      <th></th>\n",
       "      <th>x</th>\n",
       "    </tr>\n",
       "  </thead>\n",
       "  <tbody>\n",
       "    <tr>\n",
       "      <th>0</th>\n",
       "      <td>2446.0</td>\n",
       "    </tr>\n",
       "    <tr>\n",
       "      <th>1</th>\n",
       "      <td>1442.0</td>\n",
       "    </tr>\n",
       "    <tr>\n",
       "      <th>2</th>\n",
       "      <td>796.0</td>\n",
       "    </tr>\n",
       "  </tbody>\n",
       "</table>\n",
       "</div>"
      ],
      "text/plain": [
       "        x\n",
       "0  2446.0\n",
       "1  1442.0\n",
       "2   796.0"
      ]
     },
     "execution_count": 4,
     "metadata": {},
     "output_type": "execute_result"
    }
   ],
   "source": [
    "hydrogen"
   ]
  },
  {
   "cell_type": "code",
   "execution_count": 5,
   "metadata": {},
   "outputs": [
    {
     "data": {
      "text/html": [
       "<div>\n",
       "<style scoped>\n",
       "    .dataframe tbody tr th:only-of-type {\n",
       "        vertical-align: middle;\n",
       "    }\n",
       "\n",
       "    .dataframe tbody tr th {\n",
       "        vertical-align: top;\n",
       "    }\n",
       "\n",
       "    .dataframe thead th {\n",
       "        text-align: right;\n",
       "    }\n",
       "</style>\n",
       "<table border=\"1\" class=\"dataframe\">\n",
       "  <thead>\n",
       "    <tr style=\"text-align: right;\">\n",
       "      <th></th>\n",
       "      <th>x</th>\n",
       "    </tr>\n",
       "  </thead>\n",
       "  <tbody>\n",
       "    <tr>\n",
       "      <th>0</th>\n",
       "      <td>2346.0</td>\n",
       "    </tr>\n",
       "    <tr>\n",
       "      <th>1</th>\n",
       "      <td>2252.0</td>\n",
       "    </tr>\n",
       "    <tr>\n",
       "      <th>2</th>\n",
       "      <td>1610.0</td>\n",
       "    </tr>\n",
       "  </tbody>\n",
       "</table>\n",
       "</div>"
      ],
      "text/plain": [
       "        x\n",
       "0  2346.0\n",
       "1  2252.0\n",
       "2  1610.0"
      ]
     },
     "execution_count": 5,
     "metadata": {},
     "output_type": "execute_result"
    }
   ],
   "source": [
    "iodine"
   ]
  },
  {
   "cell_type": "code",
   "execution_count": 6,
   "metadata": {},
   "outputs": [],
   "source": [
    "x_err = 10.0\n",
    "lambda_err = 1.0"
   ]
  },
  {
   "cell_type": "markdown",
   "metadata": {},
   "source": [
    "## Интерполяция"
   ]
  },
  {
   "cell_type": "markdown",
   "metadata": {},
   "source": [
    "### Приближение многочленом"
   ]
  },
  {
   "cell_type": "code",
   "execution_count": 7,
   "metadata": {},
   "outputs": [],
   "source": [
    "# Убрать выпадающие точки.\n",
    "_mercury_edited = mercury.drop(mercury[(mercury['x'] > 1500.0) & (mercury['x'] < 1800.0)].index, inplace=False)"
   ]
  },
  {
   "cell_type": "code",
   "execution_count": 8,
   "metadata": {},
   "outputs": [],
   "source": [
    "X = numpy.concatenate((neon['x'].to_numpy(), _mercury_edited['x'].to_numpy()))\n",
    "Y = numpy.concatenate((neon['lambda'].to_numpy(), _mercury_edited['lambda'].to_numpy()))"
   ]
  },
  {
   "cell_type": "code",
   "execution_count": 9,
   "metadata": {},
   "outputs": [],
   "source": [
    "fitted = numpy.polyfit(X, Y, deg = 3)"
   ]
  },
  {
   "cell_type": "code",
   "execution_count": 10,
   "metadata": {},
   "outputs": [],
   "source": [
    "Xf = numpy.arange(min(X) - 100.0, max(X) + 100)\n",
    "Yf = numpy.array([numpy.polyval(fitted, x) for x in Xf])"
   ]
  },
  {
   "cell_type": "markdown",
   "metadata": {},
   "source": [
    "### График"
   ]
  },
  {
   "cell_type": "code",
   "execution_count": 11,
   "metadata": {},
   "outputs": [],
   "source": [
    "import matplotlib\n",
    "from matplotlib import pyplot as plt\n",
    "\n",
    "font = {'family' : 'Liberation Sans',\n",
    "        'weight' : 'normal',\n",
    "        'size'   : 16}"
   ]
  },
  {
   "cell_type": "code",
   "execution_count": 12,
   "metadata": {},
   "outputs": [],
   "source": [
    "matplotlib.rc('font', **font)"
   ]
  },
  {
   "cell_type": "code",
   "execution_count": 13,
   "metadata": {},
   "outputs": [
    {
     "data": {
      "image/png": "[encoded data removed]",
      "text/plain": [
       "<Figure size 1152x720 with 1 Axes>"
      ]
     },
     "metadata": {
      "needs_background": "light"
     },
     "output_type": "display_data"
    }
   ],
   "source": [
    "fig, ax = plt.subplots()\n",
    "\n",
    "fig.set_figheight(10)\n",
    "fig.set_figwidth(16)\n",
    "\n",
    "#ax.set_xscale('log', basex=10)\n",
    "#ax.set_yscale('log', basey=10)\n",
    "\n",
    "ax.grid(color='#000000', alpha=0.15, linestyle='-', linewidth=1, which='major')\n",
    "ax.grid(color='#000000', alpha=0.1, linestyle='-', linewidth=0.5, which='minor')\n",
    "ax.xaxis.set_minor_locator(matplotlib.ticker.AutoMinorLocator())\n",
    "ax.yaxis.set_minor_locator(matplotlib.ticker.AutoMinorLocator())\n",
    "\n",
    "ax.errorbar(neon['x'], neon['lambda'], xerr = x_err, yerr = lambda_err,\n",
    "            ls = '', lw = 1.0, marker = 'x', solid_capstyle='projecting', capsize = 3, label = 'Неон')\n",
    "\n",
    "ax.errorbar(mercury['x'], mercury['lambda'], xerr = x_err, yerr = lambda_err,\n",
    "            ls = '', lw = 1.0, marker = 'x', solid_capstyle='projecting', capsize = 3, label = 'Ртуть')\n",
    "\n",
    "ax.plot(Xf, Yf, lw = 1.0, label = 'Апроксимация')\n",
    "\n",
    "ax.set_xlabel('Деления')\n",
    "ax.set_ylabel('$\\lambda$, ангстрем')\n",
    "\n",
    "ax.legend(loc='upper left')\n",
    "plt.show();"
   ]
  },
  {
   "cell_type": "markdown",
   "metadata": {},
   "source": [
    "## Линии водорода"
   ]
  },
  {
   "cell_type": "markdown",
   "metadata": {},
   "source": [
    "Серия Бальмера:\n",
    "$$\n",
    "\\nu = R \\cdot c \\cdot \\left ( \\frac{1}{2^2} - \\frac{1}{n^2} \\right ) \\qquad \\Longrightarrow \\qquad\n",
    "\\lambda = \\frac{c}{\\nu} = \\frac{(2 n)^2}{R \\cdot (n - 2)(n + 2)}\n",
    "$$\n",
    "\n",
    "$$\n",
    "\\frac{\\lambda_{i+1}}{\\lambda_i} = \\frac{(2i + 2)^2 \\cdot (i - 2)(i + 2)}{(2i)^2 \\cdot (i - 1)(i + 3)}\n",
    "$$"
   ]
  },
  {
   "cell_type": "code",
   "execution_count": 14,
   "metadata": {},
   "outputs": [
    {
     "name": "stdout",
     "output_type": "stream",
     "text": [
      "[6556.032 4819.538 4357.337]\n"
     ]
    }
   ],
   "source": [
    "X_hydrogen = hydrogen['x'].to_numpy()\n",
    "Y_hydrogen = numpy.polyval(fitted, X_hydrogen)\n",
    "\n",
    "numpy.set_printoptions(precision=3)\n",
    "print(Y_hydrogen)"
   ]
  },
  {
   "cell_type": "code",
   "execution_count": 15,
   "metadata": {},
   "outputs": [
    {
     "name": "stdout",
     "output_type": "stream",
     "text": [
      "[0.735 0.904]\n"
     ]
    }
   ],
   "source": [
    "Y_hydrogen_ratios = numpy.array([Y_hydrogen[i+1] / Y_hydrogen[i] for i in range(len(Y_hydrogen) - 1)])\n",
    "print(Y_hydrogen_ratios)"
   ]
  },
  {
   "cell_type": "markdown",
   "metadata": {},
   "source": [
    "Видно, что полученные отношения с большой точностью ($ \\Delta r \\approx 0.01 $, $\\displaystyle \\frac{\\Delta r}{r} \\approx 0.015 $) совпадают с соотношениями $\\displaystyle \\frac{\\lambda_4}{\\lambda_3} = 0.741 $, $\\displaystyle \\frac{\\lambda_5}{\\lambda_4} = 0.893 $.\n",
    "\n",
    "Значит, наблюдались первые три линии серии Бальмера (т.к. $ i \\in \\{ 3, 4, 5 \\} $)."
   ]
  },
  {
   "cell_type": "code",
   "execution_count": 16,
   "metadata": {},
   "outputs": [],
   "source": [
    "Balmer_n = [3, 4, 5]"
   ]
  },
  {
   "cell_type": "markdown",
   "metadata": {},
   "source": [
    "$$\n",
    "\\lambda = \\frac{(2 n)^2}{R \\cdot (n^2 - 2^2)} \\qquad \\Longrightarrow \\qquad R = \\frac{(2 n)^2}{\\lambda \\cdot (n^2 - 2^2)}\n",
    "$$"
   ]
  },
  {
   "cell_type": "code",
   "execution_count": 17,
   "metadata": {},
   "outputs": [
    {
     "name": "stdout",
     "output_type": "stream",
     "text": [
      "Скорость света, ангстрем/с: 2.99792e+18\n"
     ]
    }
   ],
   "source": [
    "c = 299792458e10\n",
    "print(\"Скорость света, ангстрем/с: %.5e\" % c)"
   ]
  },
  {
   "cell_type": "code",
   "execution_count": 18,
   "metadata": {},
   "outputs": [],
   "source": [
    "R = numpy.array([(2 * Balmer_n[i])**2 / (Y_hydrogen[i] * (Balmer_n[i]**2 - 4)) for i in range(len(Y_hydrogen))])"
   ]
  },
  {
   "cell_type": "code",
   "execution_count": 19,
   "metadata": {},
   "outputs": [
    {
     "name": "stdout",
     "output_type": "stream",
     "text": [
      "[0.001098 0.001107 0.001093]\n",
      "Постоянная Ридберга, 1/ангстрем: 1.099e-03 ± 5.7e-06\n",
      "Постоянная Ридберга (истинная), 1/ангстрем: 1.09737e-03\n",
      "Итоговая ошибка относительно табличного значения (абс. 1/ангстрем, отн.): 1.853e-06, 1.689e-03\n"
     ]
    }
   ],
   "source": [
    "R_mean = numpy.mean(R)\n",
    "R_std = numpy.std(R)\n",
    "\n",
    "numpy.set_printoptions(precision=6)\n",
    "print(R)\n",
    "print(\"Постоянная Ридберга, 1/ангстрем: %.3e ± %.1e\" % (R_mean, R_std))\n",
    "\n",
    "R_true = 109737.3157 * 1e-8\n",
    "print(\"Постоянная Ридберга (истинная), 1/ангстрем: %.5e\" % R_true)\n",
    "print(\"Итоговая ошибка относительно табличного значения (абс. 1/ангстрем, отн.): %.3e, %.3e\" % (R_mean - R_true, (R_mean - R_true) / R_true))"
   ]
  },
  {
   "cell_type": "markdown",
   "metadata": {},
   "source": [
    "## Спектр иода\n",
    "\n",
    "Определим длины волн поглощения йода по градуировочной кривой монохроматора:"
   ]
  },
  {
   "cell_type": "code",
   "execution_count": 20,
   "metadata": {},
   "outputs": [
    {
     "name": "stdout",
     "output_type": "stream",
     "text": [
      "1.  2346.0 дел - 6294.70 Å.\n",
      "2.  2252.0 дел - 6070.34 Å.\n",
      "3.  1610.0 дел - 4997.01 Å.\n"
     ]
    }
   ],
   "source": [
    "X_iodine = iodine['x'].to_numpy()\n",
    "Y_iodine = numpy.array([numpy.polyval(fitted, x) for x in X_iodine])\n",
    "print (\"1. \", X_iodine[0], \"дел -\", '%.2f'%Y_iodine[0], \"Å.\")\n",
    "print (\"2. \", X_iodine[1], \"дел -\", '%.2f'%Y_iodine[1], \"Å.\")\n",
    "print (\"3. \", X_iodine[2], \"дел -\", '%.2f'%Y_iodine[2], \"Å.\")"
   ]
  },
  {
   "cell_type": "code",
   "execution_count": 21,
   "metadata": {},
   "outputs": [],
   "source": [
    "lambda_10 = Y_iodine[0]\n",
    "lambda_15 = Y_iodine[1]\n",
    "lambda_end = Y_iodine[2]"
   ]
  },
  {
   "cell_type": "code",
   "execution_count": 22,
   "metadata": {},
   "outputs": [
    {
     "name": "stdout",
     "output_type": "stream",
     "text": [
      "Постоянная Планка, эВ·с: 4.13567e-15\n"
     ]
    }
   ],
   "source": [
    "h =  4.135667669 / 1.0e15\n",
    "print(\"Постоянная Планка, эВ·с: %.5e\" % h)"
   ]
  },
  {
   "cell_type": "code",
   "execution_count": 23,
   "metadata": {},
   "outputs": [],
   "source": [
    "# Табличные данные.\n",
    "D_1 = 1.5\n",
    "E_A = 0.96\n",
    "h_nu_1 = 0.027"
   ]
  },
  {
   "cell_type": "markdown",
   "metadata": {},
   "source": [
    "Вычислим энергию колебательного кванта возбужденного состояния молекулы йода: $h\\nu_2=\\frac15(h\\nu_{1,5}-h\\nu_{1,0}) = \\frac{hc}{5}(\\frac{1}{\\lambda_{1,5}}-\\frac{1}{\\lambda_{1,0}})$."
   ]
  },
  {
   "cell_type": "code",
   "execution_count": 24,
   "metadata": {},
   "outputs": [
    {
     "name": "stdout",
     "output_type": "stream",
     "text": [
      "h_nu_2, эВ: 1.456e-02\n"
     ]
    }
   ],
   "source": [
    "h_nu_2 = h * c * (1.0 / lambda_15 - 1.0 / lambda_10) * 0.2\n",
    "print(\"h_nu_2, эВ: %.3e\" % h_nu_2)"
   ]
  },
  {
   "cell_type": "markdown",
   "metadata": {},
   "source": [
    "Для границы схождения спетра имеем энергию $ \\displaystyle D_1 = \\frac {hc}{\\lambda_{\\text{конец}}} $."
   ]
  },
  {
   "cell_type": "code",
   "execution_count": 25,
   "metadata": {},
   "outputs": [
    {
     "name": "stdout",
     "output_type": "stream",
     "text": [
      "Измеренное h_nu_end, эВ: 2.481e+00\n",
      "Табличное h_nu_end, эВ: 2.440e+00\n",
      "Итоговая ошибка относительно табличного значения (абс. эВ, отн.): 4.117e-02, 1.687e-02\n"
     ]
    }
   ],
   "source": [
    "h_nu_end_exp = h * c / lambda_end\n",
    "print(\"Измеренное h_nu_end, эВ: %.3e\" % h_nu_end_exp)\n",
    "\n",
    "h_nu_end = 2.44\n",
    "print(\"Табличное h_nu_end, эВ: %.3e\" % h_nu_end)\n",
    "print(\"Итоговая ошибка относительно табличного значения (абс. эВ, отн.): %.3e, %.3e\" %\n",
    "      (h_nu_end_exp - h_nu_end, (h_nu_end_exp - h_nu_end) / h_nu_end))"
   ]
  },
  {
   "cell_type": "markdown",
   "metadata": {},
   "source": [
    "$ \\displaystyle D_2 = D_1 \\cdot \\frac{h \\nu_2}{h \\nu_1} $"
   ]
  },
  {
   "cell_type": "code",
   "execution_count": 26,
   "metadata": {},
   "outputs": [
    {
     "name": "stdout",
     "output_type": "stream",
     "text": [
      "D_2, эВ: 8.089e-01\n"
     ]
    }
   ],
   "source": [
    "D_2 = D_1 * h_nu_2 / h_nu_1\n",
    "print(\"D_2, эВ: %.3e\" % D_2)"
   ]
  },
  {
   "cell_type": "markdown",
   "metadata": {},
   "source": [
    "Согласно рис. 2 в лабораторном практикуме, $h\\nu_{эл} = D_1+E_A-D_2 = h \\nu_{гр} - D_2 $."
   ]
  },
  {
   "cell_type": "code",
   "execution_count": 27,
   "metadata": {},
   "outputs": [
    {
     "name": "stdout",
     "output_type": "stream",
     "text": [
      "h_nu_el, эВ: 1.631e+00\n"
     ]
    }
   ],
   "source": [
    "h_nu_el = h_nu_end - D_2\n",
    "print(\"h_nu_el, эВ: %.3e\" % h_nu_el)"
   ]
  },
  {
   "cell_type": "code",
   "execution_count": null,
   "metadata": {},
   "outputs": [],
   "source": []
  }
 ],
 "metadata": {
  "kernelspec": {
   "display_name": "Python 3",
   "language": "python",
   "name": "python3"
  },
  "language_info": {
   "codemirror_mode": {
    "name": "ipython",
    "version": 3
   },
   "file_extension": ".py",
   "mimetype": "text/x-python",
   "name": "python",
   "nbconvert_exporter": "python",
   "pygments_lexer": "ipython3",
   "version": "3.7.3"
  }
 },
 "nbformat": 4,
 "nbformat_minor": 2
}
