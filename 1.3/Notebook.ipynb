{
 "cells": [
  {
   "cell_type": "markdown",
   "metadata": {},
   "source": [
    "# Эффект Рамзауэра\n",
    "### Бутаков Иван, Гладков Андрей; Б05-871\n",
    "\n",
    "Цель работы: изучение рассеяния медленных электронов на атомах.\n",
    "\n",
    "Оборудование: тиратрон с инертным газом, источник тока, мультиметр."
   ]
  },
  {
   "cell_type": "markdown",
   "metadata": {},
   "source": [
    "## Теоретическая часть\n",
    "\n",
    "В данной работе наблюдается явление, необъяснимое в рамках классической физики - эффект \"прозрачности\" атомов для налетающих электронов, проявляющийся в виде наличия перегиба (а также локального максимума и минимума) на графике вольт-амперной характеристики лампы с инертным газом.\n",
    "\n",
    "В рамках работы происходит качественное наблюдение за ВАХ лампы, а также точный промер данной кривой. На основе полученных данных рассчитывается глубина и ширина потенциальной ямы атома. Попутно делается вывод о составе газа внутри лампы."
   ]
  },
  {
   "cell_type": "markdown",
   "metadata": {},
   "source": [
    "## Импортирование данных"
   ]
  },
  {
   "cell_type": "code",
   "execution_count": 1,
   "metadata": {},
   "outputs": [],
   "source": [
    "import pandas\n",
    "import numpy"
   ]
  },
  {
   "cell_type": "code",
   "execution_count": 2,
   "metadata": {},
   "outputs": [],
   "source": [
    "# Опыты.\n",
    "data_2_5V = pandas.read_csv('2.5V.csv', delim_whitespace=True, header = 0, comment='#', dtype = numpy.float64)\n",
    "data_3V = pandas.read_csv('3V.csv', delim_whitespace=True, header = 0, comment='#', dtype = numpy.float64)"
   ]
  },
  {
   "cell_type": "markdown",
   "metadata": {},
   "source": [
    "### Обозначения\n",
    "\n",
    "$ U $ - приложенное напряжение в вольтах, $ I $ - измеренный ток в амперах."
   ]
  },
  {
   "cell_type": "code",
   "execution_count": 3,
   "metadata": {},
   "outputs": [
    {
     "data": {
      "text/html": [
       "<div>\n",
       "<style scoped>\n",
       "    .dataframe tbody tr th:only-of-type {\n",
       "        vertical-align: middle;\n",
       "    }\n",
       "\n",
       "    .dataframe tbody tr th {\n",
       "        vertical-align: top;\n",
       "    }\n",
       "\n",
       "    .dataframe thead th {\n",
       "        text-align: right;\n",
       "    }\n",
       "</style>\n",
       "<table border=\"1\" class=\"dataframe\">\n",
       "  <thead>\n",
       "    <tr style=\"text-align: right;\">\n",
       "      <th></th>\n",
       "      <th>U</th>\n",
       "      <th>I</th>\n",
       "    </tr>\n",
       "  </thead>\n",
       "  <tbody>\n",
       "    <tr>\n",
       "      <th>0</th>\n",
       "      <td>0.010</td>\n",
       "      <td>-0.00080</td>\n",
       "    </tr>\n",
       "    <tr>\n",
       "      <th>1</th>\n",
       "      <td>2.397</td>\n",
       "      <td>0.00002</td>\n",
       "    </tr>\n",
       "    <tr>\n",
       "      <th>2</th>\n",
       "      <td>2.543</td>\n",
       "      <td>0.00040</td>\n",
       "    </tr>\n",
       "    <tr>\n",
       "      <th>3</th>\n",
       "      <td>3.008</td>\n",
       "      <td>0.00983</td>\n",
       "    </tr>\n",
       "    <tr>\n",
       "      <th>4</th>\n",
       "      <td>3.515</td>\n",
       "      <td>0.01859</td>\n",
       "    </tr>\n",
       "    <tr>\n",
       "      <th>5</th>\n",
       "      <td>4.003</td>\n",
       "      <td>0.02116</td>\n",
       "    </tr>\n",
       "    <tr>\n",
       "      <th>6</th>\n",
       "      <td>4.518</td>\n",
       "      <td>0.02165</td>\n",
       "    </tr>\n",
       "    <tr>\n",
       "      <th>7</th>\n",
       "      <td>5.014</td>\n",
       "      <td>0.02086</td>\n",
       "    </tr>\n",
       "    <tr>\n",
       "      <th>8</th>\n",
       "      <td>5.507</td>\n",
       "      <td>0.01976</td>\n",
       "    </tr>\n",
       "    <tr>\n",
       "      <th>9</th>\n",
       "      <td>6.005</td>\n",
       "      <td>0.01892</td>\n",
       "    </tr>\n",
       "    <tr>\n",
       "      <th>10</th>\n",
       "      <td>6.498</td>\n",
       "      <td>0.01763</td>\n",
       "    </tr>\n",
       "    <tr>\n",
       "      <th>11</th>\n",
       "      <td>6.999</td>\n",
       "      <td>0.01598</td>\n",
       "    </tr>\n",
       "    <tr>\n",
       "      <th>12</th>\n",
       "      <td>7.513</td>\n",
       "      <td>0.01425</td>\n",
       "    </tr>\n",
       "    <tr>\n",
       "      <th>13</th>\n",
       "      <td>7.995</td>\n",
       "      <td>0.01275</td>\n",
       "    </tr>\n",
       "    <tr>\n",
       "      <th>14</th>\n",
       "      <td>8.504</td>\n",
       "      <td>0.01153</td>\n",
       "    </tr>\n",
       "    <tr>\n",
       "      <th>15</th>\n",
       "      <td>8.992</td>\n",
       "      <td>0.01045</td>\n",
       "    </tr>\n",
       "    <tr>\n",
       "      <th>16</th>\n",
       "      <td>9.512</td>\n",
       "      <td>0.00952</td>\n",
       "    </tr>\n",
       "    <tr>\n",
       "      <th>17</th>\n",
       "      <td>10.019</td>\n",
       "      <td>0.00911</td>\n",
       "    </tr>\n",
       "    <tr>\n",
       "      <th>18</th>\n",
       "      <td>10.523</td>\n",
       "      <td>0.00905</td>\n",
       "    </tr>\n",
       "    <tr>\n",
       "      <th>19</th>\n",
       "      <td>11.004</td>\n",
       "      <td>0.00926</td>\n",
       "    </tr>\n",
       "    <tr>\n",
       "      <th>20</th>\n",
       "      <td>11.510</td>\n",
       "      <td>0.00966</td>\n",
       "    </tr>\n",
       "    <tr>\n",
       "      <th>21</th>\n",
       "      <td>12.020</td>\n",
       "      <td>0.00996</td>\n",
       "    </tr>\n",
       "    <tr>\n",
       "      <th>22</th>\n",
       "      <td>12.308</td>\n",
       "      <td>0.01010</td>\n",
       "    </tr>\n",
       "  </tbody>\n",
       "</table>\n",
       "</div>"
      ],
      "text/plain": [
       "         U        I\n",
       "0    0.010 -0.00080\n",
       "1    2.397  0.00002\n",
       "2    2.543  0.00040\n",
       "3    3.008  0.00983\n",
       "4    3.515  0.01859\n",
       "5    4.003  0.02116\n",
       "6    4.518  0.02165\n",
       "7    5.014  0.02086\n",
       "8    5.507  0.01976\n",
       "9    6.005  0.01892\n",
       "10   6.498  0.01763\n",
       "11   6.999  0.01598\n",
       "12   7.513  0.01425\n",
       "13   7.995  0.01275\n",
       "14   8.504  0.01153\n",
       "15   8.992  0.01045\n",
       "16   9.512  0.00952\n",
       "17  10.019  0.00911\n",
       "18  10.523  0.00905\n",
       "19  11.004  0.00926\n",
       "20  11.510  0.00966\n",
       "21  12.020  0.00996\n",
       "22  12.308  0.01010"
      ]
     },
     "execution_count": 3,
     "metadata": {},
     "output_type": "execute_result"
    }
   ],
   "source": [
    "data_2_5V"
   ]
  },
  {
   "cell_type": "code",
   "execution_count": 4,
   "metadata": {},
   "outputs": [
    {
     "data": {
      "text/html": [
       "<div>\n",
       "<style scoped>\n",
       "    .dataframe tbody tr th:only-of-type {\n",
       "        vertical-align: middle;\n",
       "    }\n",
       "\n",
       "    .dataframe tbody tr th {\n",
       "        vertical-align: top;\n",
       "    }\n",
       "\n",
       "    .dataframe thead th {\n",
       "        text-align: right;\n",
       "    }\n",
       "</style>\n",
       "<table border=\"1\" class=\"dataframe\">\n",
       "  <thead>\n",
       "    <tr style=\"text-align: right;\">\n",
       "      <th></th>\n",
       "      <th>U</th>\n",
       "      <th>I</th>\n",
       "    </tr>\n",
       "  </thead>\n",
       "  <tbody>\n",
       "    <tr>\n",
       "      <th>0</th>\n",
       "      <td>0.000</td>\n",
       "      <td>-0.00010</td>\n",
       "    </tr>\n",
       "    <tr>\n",
       "      <th>1</th>\n",
       "      <td>1.001</td>\n",
       "      <td>-0.00010</td>\n",
       "    </tr>\n",
       "    <tr>\n",
       "      <th>2</th>\n",
       "      <td>2.014</td>\n",
       "      <td>-0.00007</td>\n",
       "    </tr>\n",
       "    <tr>\n",
       "      <th>3</th>\n",
       "      <td>2.128</td>\n",
       "      <td>0.00001</td>\n",
       "    </tr>\n",
       "    <tr>\n",
       "      <th>4</th>\n",
       "      <td>2.490</td>\n",
       "      <td>0.00405</td>\n",
       "    </tr>\n",
       "    <tr>\n",
       "      <th>5</th>\n",
       "      <td>3.018</td>\n",
       "      <td>0.03800</td>\n",
       "    </tr>\n",
       "    <tr>\n",
       "      <th>6</th>\n",
       "      <td>3.514</td>\n",
       "      <td>0.06000</td>\n",
       "    </tr>\n",
       "    <tr>\n",
       "      <th>7</th>\n",
       "      <td>4.008</td>\n",
       "      <td>0.06924</td>\n",
       "    </tr>\n",
       "    <tr>\n",
       "      <th>8</th>\n",
       "      <td>5.023</td>\n",
       "      <td>0.07701</td>\n",
       "    </tr>\n",
       "    <tr>\n",
       "      <th>9</th>\n",
       "      <td>5.512</td>\n",
       "      <td>0.07767</td>\n",
       "    </tr>\n",
       "    <tr>\n",
       "      <th>10</th>\n",
       "      <td>6.009</td>\n",
       "      <td>0.07730</td>\n",
       "    </tr>\n",
       "    <tr>\n",
       "      <th>11</th>\n",
       "      <td>6.499</td>\n",
       "      <td>0.07577</td>\n",
       "    </tr>\n",
       "    <tr>\n",
       "      <th>12</th>\n",
       "      <td>7.018</td>\n",
       "      <td>0.07251</td>\n",
       "    </tr>\n",
       "    <tr>\n",
       "      <th>13</th>\n",
       "      <td>7.516</td>\n",
       "      <td>0.06845</td>\n",
       "    </tr>\n",
       "    <tr>\n",
       "      <th>14</th>\n",
       "      <td>7.995</td>\n",
       "      <td>0.06457</td>\n",
       "    </tr>\n",
       "    <tr>\n",
       "      <th>15</th>\n",
       "      <td>8.512</td>\n",
       "      <td>0.06046</td>\n",
       "    </tr>\n",
       "    <tr>\n",
       "      <th>16</th>\n",
       "      <td>9.003</td>\n",
       "      <td>0.05740</td>\n",
       "    </tr>\n",
       "    <tr>\n",
       "      <th>17</th>\n",
       "      <td>9.516</td>\n",
       "      <td>0.05542</td>\n",
       "    </tr>\n",
       "    <tr>\n",
       "      <th>18</th>\n",
       "      <td>10.000</td>\n",
       "      <td>0.05510</td>\n",
       "    </tr>\n",
       "    <tr>\n",
       "      <th>19</th>\n",
       "      <td>10.505</td>\n",
       "      <td>0.05617</td>\n",
       "    </tr>\n",
       "    <tr>\n",
       "      <th>20</th>\n",
       "      <td>11.113</td>\n",
       "      <td>0.05891</td>\n",
       "    </tr>\n",
       "  </tbody>\n",
       "</table>\n",
       "</div>"
      ],
      "text/plain": [
       "         U        I\n",
       "0    0.000 -0.00010\n",
       "1    1.001 -0.00010\n",
       "2    2.014 -0.00007\n",
       "3    2.128  0.00001\n",
       "4    2.490  0.00405\n",
       "5    3.018  0.03800\n",
       "6    3.514  0.06000\n",
       "7    4.008  0.06924\n",
       "8    5.023  0.07701\n",
       "9    5.512  0.07767\n",
       "10   6.009  0.07730\n",
       "11   6.499  0.07577\n",
       "12   7.018  0.07251\n",
       "13   7.516  0.06845\n",
       "14   7.995  0.06457\n",
       "15   8.512  0.06046\n",
       "16   9.003  0.05740\n",
       "17   9.516  0.05542\n",
       "18  10.000  0.05510\n",
       "19  10.505  0.05617\n",
       "20  11.113  0.05891"
      ]
     },
     "execution_count": 4,
     "metadata": {},
     "output_type": "execute_result"
    }
   ],
   "source": [
    "data_3V"
   ]
  },
  {
   "cell_type": "code",
   "execution_count": 5,
   "metadata": {},
   "outputs": [],
   "source": [
    "# Погрешность\n",
    "delta_U = 0.01\n",
    "delta_I = 0.0001"
   ]
  },
  {
   "cell_type": "code",
   "execution_count": 6,
   "metadata": {},
   "outputs": [],
   "source": [
    "# Результаты измерений в динамическом режиме.\n",
    "din_data_2_5V = pandas.read_csv('2.5V.txt', delim_whitespace=True, header = 0, comment='#', dtype = numpy.float64)\n",
    "din_data_3V = pandas.read_csv('3V.txt', delim_whitespace=True, header = 0, comment='#', dtype = numpy.float64)"
   ]
  },
  {
   "cell_type": "markdown",
   "metadata": {},
   "source": [
    "Формат данных:\n",
    "0. Нижний минимум.\n",
    "1. Нижний максимум.\n",
    "2. Верхний минимум.\n",
    "3. Верхний максимум.\n",
    "4. Скачок, подножье.\n",
    "5. Скачок, верхняя точка."
   ]
  },
  {
   "cell_type": "code",
   "execution_count": 7,
   "metadata": {},
   "outputs": [
    {
     "data": {
      "text/html": [
       "<div>\n",
       "<style scoped>\n",
       "    .dataframe tbody tr th:only-of-type {\n",
       "        vertical-align: middle;\n",
       "    }\n",
       "\n",
       "    .dataframe tbody tr th {\n",
       "        vertical-align: top;\n",
       "    }\n",
       "\n",
       "    .dataframe thead th {\n",
       "        text-align: right;\n",
       "    }\n",
       "</style>\n",
       "<table border=\"1\" class=\"dataframe\">\n",
       "  <thead>\n",
       "    <tr style=\"text-align: right;\">\n",
       "      <th></th>\n",
       "      <th>X</th>\n",
       "      <th>Y</th>\n",
       "    </tr>\n",
       "  </thead>\n",
       "  <tbody>\n",
       "    <tr>\n",
       "      <th>0</th>\n",
       "      <td>-10.0</td>\n",
       "      <td>0.003</td>\n",
       "    </tr>\n",
       "    <tr>\n",
       "      <th>1</th>\n",
       "      <td>-3.0</td>\n",
       "      <td>0.010</td>\n",
       "    </tr>\n",
       "    <tr>\n",
       "      <th>2</th>\n",
       "      <td>-12.0</td>\n",
       "      <td>0.010</td>\n",
       "    </tr>\n",
       "    <tr>\n",
       "      <th>3</th>\n",
       "      <td>-5.0</td>\n",
       "      <td>0.017</td>\n",
       "    </tr>\n",
       "    <tr>\n",
       "      <th>4</th>\n",
       "      <td>-16.0</td>\n",
       "      <td>0.012</td>\n",
       "    </tr>\n",
       "    <tr>\n",
       "      <th>5</th>\n",
       "      <td>-20.0</td>\n",
       "      <td>0.020</td>\n",
       "    </tr>\n",
       "  </tbody>\n",
       "</table>\n",
       "</div>"
      ],
      "text/plain": [
       "      X      Y\n",
       "0 -10.0  0.003\n",
       "1  -3.0  0.010\n",
       "2 -12.0  0.010\n",
       "3  -5.0  0.017\n",
       "4 -16.0  0.012\n",
       "5 -20.0  0.020"
      ]
     },
     "execution_count": 7,
     "metadata": {},
     "output_type": "execute_result"
    }
   ],
   "source": [
    "din_data_2_5V"
   ]
  },
  {
   "cell_type": "code",
   "execution_count": 8,
   "metadata": {},
   "outputs": [
    {
     "data": {
      "text/html": [
       "<div>\n",
       "<style scoped>\n",
       "    .dataframe tbody tr th:only-of-type {\n",
       "        vertical-align: middle;\n",
       "    }\n",
       "\n",
       "    .dataframe tbody tr th {\n",
       "        vertical-align: top;\n",
       "    }\n",
       "\n",
       "    .dataframe thead th {\n",
       "        text-align: right;\n",
       "    }\n",
       "</style>\n",
       "<table border=\"1\" class=\"dataframe\">\n",
       "  <thead>\n",
       "    <tr style=\"text-align: right;\">\n",
       "      <th></th>\n",
       "      <th>X,</th>\n",
       "      <th>Y</th>\n",
       "    </tr>\n",
       "  </thead>\n",
       "  <tbody>\n",
       "    <tr>\n",
       "      <th>0</th>\n",
       "      <td>9.0</td>\n",
       "      <td>0.040</td>\n",
       "    </tr>\n",
       "    <tr>\n",
       "      <th>1</th>\n",
       "      <td>4.6</td>\n",
       "      <td>0.060</td>\n",
       "    </tr>\n",
       "    <tr>\n",
       "      <th>2</th>\n",
       "      <td>9.8</td>\n",
       "      <td>0.052</td>\n",
       "    </tr>\n",
       "    <tr>\n",
       "      <th>3</th>\n",
       "      <td>5.8</td>\n",
       "      <td>0.072</td>\n",
       "    </tr>\n",
       "    <tr>\n",
       "      <th>4</th>\n",
       "      <td>13.0</td>\n",
       "      <td>0.060</td>\n",
       "    </tr>\n",
       "    <tr>\n",
       "      <th>5</th>\n",
       "      <td>20.0</td>\n",
       "      <td>0.240</td>\n",
       "    </tr>\n",
       "  </tbody>\n",
       "</table>\n",
       "</div>"
      ],
      "text/plain": [
       "     X,      Y\n",
       "0   9.0  0.040\n",
       "1   4.6  0.060\n",
       "2   9.8  0.052\n",
       "3   5.8  0.072\n",
       "4  13.0  0.060\n",
       "5  20.0  0.240"
      ]
     },
     "execution_count": 8,
     "metadata": {},
     "output_type": "execute_result"
    }
   ],
   "source": [
    "din_data_3V"
   ]
  },
  {
   "cell_type": "markdown",
   "metadata": {},
   "source": [
    "### Обработка данных динамического режима"
   ]
  },
  {
   "cell_type": "code",
   "execution_count": 9,
   "metadata": {},
   "outputs": [],
   "source": [
    "# Постоянная планка.\n",
    "h = 6.626e-34\n",
    "h_ev = 4.135e-15\n",
    "\n",
    "# Заряд электрона.\n",
    "e = 1.602e-19\n",
    "\n",
    "# Масса электрона.\n",
    "m = 9.11e-31"
   ]
  },
  {
   "cell_type": "markdown",
   "metadata": {},
   "source": [
    "$$\n",
    "l = \\frac{h \\sqrt{5}}{4 \\sqrt{2m \\cdot (E_2 - E_1)}}\n",
    "$$"
   ]
  },
  {
   "cell_type": "code",
   "execution_count": 10,
   "metadata": {},
   "outputs": [],
   "source": [
    "def get_potential_well_size(E_1, E_2, m, delta_E_1 = 0.0, delta_E_2 = 0.0):\n",
    "    l = (h * numpy.sqrt(5)) / (4 * numpy.sqrt(2 * m * (E_2 - E_1)))\n",
    "    delta_l = 0.5 * l * (delta_E_1 + delta_E_2) / (E_1 + E_2)\n",
    "    return l, delta_l"
   ]
  },
  {
   "cell_type": "code",
   "execution_count": 11,
   "metadata": {},
   "outputs": [
    {
     "name": "stdout",
     "output_type": "stream",
     "text": [
      "Оценка радиуса электронной оболочки: 2.59e-10 м\n"
     ]
    }
   ],
   "source": [
    "U_2 = 11 # Минимум.\n",
    "U_1 = 4  # Максимум.\n",
    "\n",
    "l_est, _ = get_potential_well_size(U_1 * e, U_2 * e, m)\n",
    "print(\"Оценка радиуса электронной оболочки: %.2e м\" % l_est)"
   ]
  },
  {
   "cell_type": "markdown",
   "metadata": {},
   "source": [
    "$$\n",
    "U_0 = \\frac{1}{5}(4 E_2 - 9 E_1)\n",
    "$$"
   ]
  },
  {
   "cell_type": "code",
   "execution_count": 12,
   "metadata": {},
   "outputs": [],
   "source": [
    "def get_potential_well_depth(E_1, E_2, delta_E_1 = 0.0, delta_E_2 = 0.0):\n",
    "    U_0 = (4 * E_2 - 9 * E_1) / 5\n",
    "    delta_U_0 = (4 * delta_E_2 + 9 * delta_E_1) / 5\n",
    "    return U_0, delta_U_0"
   ]
  },
  {
   "cell_type": "code",
   "execution_count": 13,
   "metadata": {},
   "outputs": [
    {
     "name": "stdout",
     "output_type": "stream",
     "text": [
      "Оценка глубины потенциальной ямы: 1.60e+00 эВ\n"
     ]
    }
   ],
   "source": [
    "U_0_est, _ = get_potential_well_depth(U_1 * e, U_2 * e)\n",
    "U_0_est /= e\n",
    "print(\"Оценка глубины потенциальной ямы: %.2e эВ\" % U_0_est)"
   ]
  },
  {
   "cell_type": "code",
   "execution_count": 14,
   "metadata": {},
   "outputs": [
    {
     "name": "stdout",
     "output_type": "stream",
     "text": [
      "Оценка ионизационного потенциала: 14.5 эВ\n"
     ]
    }
   ],
   "source": [
    "I_ion_est = (13 + 16) / 2\n",
    "print(\"Оценка ионизационного потенциала: %.1f эВ\" % I_ion_est)"
   ]
  },
  {
   "cell_type": "markdown",
   "metadata": {},
   "source": [
    "Судя по оценке потенциала ионизации, в лампе находится криптон (энергия ионизации - $ 14 $ эВ)."
   ]
  },
  {
   "cell_type": "markdown",
   "metadata": {},
   "source": [
    "### График ВАХ в статическом режиме"
   ]
  },
  {
   "cell_type": "code",
   "execution_count": 15,
   "metadata": {},
   "outputs": [],
   "source": [
    "import matplotlib\n",
    "from matplotlib import pyplot as plt\n",
    "\n",
    "font = {'family' : 'Liberation Sans',\n",
    "        'weight' : 'normal',\n",
    "        'size'   : 16}"
   ]
  },
  {
   "cell_type": "code",
   "execution_count": 16,
   "metadata": {},
   "outputs": [],
   "source": [
    "matplotlib.rc('font', **font)"
   ]
  },
  {
   "cell_type": "code",
   "execution_count": 17,
   "metadata": {},
   "outputs": [
    {
     "data": {
      "image/png": "[encoded data removed]",
      "text/plain": [
       "<Figure size 1152x720 with 1 Axes>"
      ]
     },
     "metadata": {
      "needs_background": "light"
     },
     "output_type": "display_data"
    }
   ],
   "source": [
    "fig, ax = plt.subplots()\n",
    "\n",
    "ax.set_title(\"Вольт-амперная характеристика при разном напряжении накала лампы\")\n",
    "\n",
    "fig.set_figheight(10)\n",
    "fig.set_figwidth(16)\n",
    "\n",
    "#ax.set_xscale('log', basex=10)\n",
    "#ax.set_yscale('log', basey=10)\n",
    "\n",
    "ax.grid(color='#000000', alpha=0.15, linestyle='-', linewidth=1, which='major')\n",
    "ax.grid(color='#000000', alpha=0.1, linestyle='-', linewidth=0.5, which='minor')\n",
    "ax.xaxis.set_minor_locator(matplotlib.ticker.AutoMinorLocator())\n",
    "ax.yaxis.set_minor_locator(matplotlib.ticker.AutoMinorLocator())\n",
    "\n",
    "ax.errorbar(data_2_5V['U'], data_2_5V['I'], xerr = delta_U, yerr = delta_I,\n",
    "            ls = '', lw = 1.0, marker = 'x', solid_capstyle='projecting', capsize = 3, label = '2.5В')\n",
    "\n",
    "ax.errorbar(data_3V['U'], data_3V['I'], xerr = delta_U, yerr = delta_I,\n",
    "            ls = '', lw = 1.0, marker = 'x', solid_capstyle='projecting', capsize = 3, label = '3В')\n",
    "\n",
    "ax.set_xlim(left = 2.0)\n",
    "\n",
    "ax.set_xlabel('Приложенное напряжение, В')\n",
    "ax.set_ylabel('Ток, А')\n",
    "\n",
    "ax.legend(loc='upper left')\n",
    "plt.show();"
   ]
  },
  {
   "cell_type": "markdown",
   "metadata": {},
   "source": [
    "### Обработка данных статического режима"
   ]
  },
  {
   "cell_type": "code",
   "execution_count": 18,
   "metadata": {},
   "outputs": [],
   "source": [
    "# Уберем начальную фазу роста.\n",
    "treshold = 3.5\n",
    "data_2_5V_cropped = data_2_5V[data_2_5V['U'] > treshold]\n",
    "data_3V_cropped = data_3V[data_3V['U'] > treshold]"
   ]
  },
  {
   "cell_type": "code",
   "execution_count": 19,
   "metadata": {},
   "outputs": [
    {
     "data": {
      "text/html": [
       "<div>\n",
       "<style scoped>\n",
       "    .dataframe tbody tr th:only-of-type {\n",
       "        vertical-align: middle;\n",
       "    }\n",
       "\n",
       "    .dataframe tbody tr th {\n",
       "        vertical-align: top;\n",
       "    }\n",
       "\n",
       "    .dataframe thead th {\n",
       "        text-align: right;\n",
       "    }\n",
       "</style>\n",
       "<table border=\"1\" class=\"dataframe\">\n",
       "  <thead>\n",
       "    <tr style=\"text-align: right;\">\n",
       "      <th></th>\n",
       "      <th>U</th>\n",
       "      <th>I</th>\n",
       "    </tr>\n",
       "  </thead>\n",
       "  <tbody>\n",
       "    <tr>\n",
       "      <th>4</th>\n",
       "      <td>3.515</td>\n",
       "      <td>0.01859</td>\n",
       "    </tr>\n",
       "    <tr>\n",
       "      <th>5</th>\n",
       "      <td>4.003</td>\n",
       "      <td>0.02116</td>\n",
       "    </tr>\n",
       "    <tr>\n",
       "      <th>6</th>\n",
       "      <td>4.518</td>\n",
       "      <td>0.02165</td>\n",
       "    </tr>\n",
       "    <tr>\n",
       "      <th>7</th>\n",
       "      <td>5.014</td>\n",
       "      <td>0.02086</td>\n",
       "    </tr>\n",
       "    <tr>\n",
       "      <th>8</th>\n",
       "      <td>5.507</td>\n",
       "      <td>0.01976</td>\n",
       "    </tr>\n",
       "    <tr>\n",
       "      <th>9</th>\n",
       "      <td>6.005</td>\n",
       "      <td>0.01892</td>\n",
       "    </tr>\n",
       "    <tr>\n",
       "      <th>10</th>\n",
       "      <td>6.498</td>\n",
       "      <td>0.01763</td>\n",
       "    </tr>\n",
       "    <tr>\n",
       "      <th>11</th>\n",
       "      <td>6.999</td>\n",
       "      <td>0.01598</td>\n",
       "    </tr>\n",
       "    <tr>\n",
       "      <th>12</th>\n",
       "      <td>7.513</td>\n",
       "      <td>0.01425</td>\n",
       "    </tr>\n",
       "    <tr>\n",
       "      <th>13</th>\n",
       "      <td>7.995</td>\n",
       "      <td>0.01275</td>\n",
       "    </tr>\n",
       "    <tr>\n",
       "      <th>14</th>\n",
       "      <td>8.504</td>\n",
       "      <td>0.01153</td>\n",
       "    </tr>\n",
       "    <tr>\n",
       "      <th>15</th>\n",
       "      <td>8.992</td>\n",
       "      <td>0.01045</td>\n",
       "    </tr>\n",
       "    <tr>\n",
       "      <th>16</th>\n",
       "      <td>9.512</td>\n",
       "      <td>0.00952</td>\n",
       "    </tr>\n",
       "    <tr>\n",
       "      <th>17</th>\n",
       "      <td>10.019</td>\n",
       "      <td>0.00911</td>\n",
       "    </tr>\n",
       "    <tr>\n",
       "      <th>18</th>\n",
       "      <td>10.523</td>\n",
       "      <td>0.00905</td>\n",
       "    </tr>\n",
       "    <tr>\n",
       "      <th>19</th>\n",
       "      <td>11.004</td>\n",
       "      <td>0.00926</td>\n",
       "    </tr>\n",
       "    <tr>\n",
       "      <th>20</th>\n",
       "      <td>11.510</td>\n",
       "      <td>0.00966</td>\n",
       "    </tr>\n",
       "    <tr>\n",
       "      <th>21</th>\n",
       "      <td>12.020</td>\n",
       "      <td>0.00996</td>\n",
       "    </tr>\n",
       "    <tr>\n",
       "      <th>22</th>\n",
       "      <td>12.308</td>\n",
       "      <td>0.01010</td>\n",
       "    </tr>\n",
       "  </tbody>\n",
       "</table>\n",
       "</div>"
      ],
      "text/plain": [
       "         U        I\n",
       "4    3.515  0.01859\n",
       "5    4.003  0.02116\n",
       "6    4.518  0.02165\n",
       "7    5.014  0.02086\n",
       "8    5.507  0.01976\n",
       "9    6.005  0.01892\n",
       "10   6.498  0.01763\n",
       "11   6.999  0.01598\n",
       "12   7.513  0.01425\n",
       "13   7.995  0.01275\n",
       "14   8.504  0.01153\n",
       "15   8.992  0.01045\n",
       "16   9.512  0.00952\n",
       "17  10.019  0.00911\n",
       "18  10.523  0.00905\n",
       "19  11.004  0.00926\n",
       "20  11.510  0.00966\n",
       "21  12.020  0.00996\n",
       "22  12.308  0.01010"
      ]
     },
     "execution_count": 19,
     "metadata": {},
     "output_type": "execute_result"
    }
   ],
   "source": [
    "data_2_5V_cropped"
   ]
  },
  {
   "cell_type": "code",
   "execution_count": 20,
   "metadata": {},
   "outputs": [
    {
     "data": {
      "text/html": [
       "<div>\n",
       "<style scoped>\n",
       "    .dataframe tbody tr th:only-of-type {\n",
       "        vertical-align: middle;\n",
       "    }\n",
       "\n",
       "    .dataframe tbody tr th {\n",
       "        vertical-align: top;\n",
       "    }\n",
       "\n",
       "    .dataframe thead th {\n",
       "        text-align: right;\n",
       "    }\n",
       "</style>\n",
       "<table border=\"1\" class=\"dataframe\">\n",
       "  <thead>\n",
       "    <tr style=\"text-align: right;\">\n",
       "      <th></th>\n",
       "      <th>U</th>\n",
       "      <th>I</th>\n",
       "    </tr>\n",
       "  </thead>\n",
       "  <tbody>\n",
       "    <tr>\n",
       "      <th>6</th>\n",
       "      <td>3.514</td>\n",
       "      <td>0.06000</td>\n",
       "    </tr>\n",
       "    <tr>\n",
       "      <th>7</th>\n",
       "      <td>4.008</td>\n",
       "      <td>0.06924</td>\n",
       "    </tr>\n",
       "    <tr>\n",
       "      <th>8</th>\n",
       "      <td>5.023</td>\n",
       "      <td>0.07701</td>\n",
       "    </tr>\n",
       "    <tr>\n",
       "      <th>9</th>\n",
       "      <td>5.512</td>\n",
       "      <td>0.07767</td>\n",
       "    </tr>\n",
       "    <tr>\n",
       "      <th>10</th>\n",
       "      <td>6.009</td>\n",
       "      <td>0.07730</td>\n",
       "    </tr>\n",
       "    <tr>\n",
       "      <th>11</th>\n",
       "      <td>6.499</td>\n",
       "      <td>0.07577</td>\n",
       "    </tr>\n",
       "    <tr>\n",
       "      <th>12</th>\n",
       "      <td>7.018</td>\n",
       "      <td>0.07251</td>\n",
       "    </tr>\n",
       "    <tr>\n",
       "      <th>13</th>\n",
       "      <td>7.516</td>\n",
       "      <td>0.06845</td>\n",
       "    </tr>\n",
       "    <tr>\n",
       "      <th>14</th>\n",
       "      <td>7.995</td>\n",
       "      <td>0.06457</td>\n",
       "    </tr>\n",
       "    <tr>\n",
       "      <th>15</th>\n",
       "      <td>8.512</td>\n",
       "      <td>0.06046</td>\n",
       "    </tr>\n",
       "    <tr>\n",
       "      <th>16</th>\n",
       "      <td>9.003</td>\n",
       "      <td>0.05740</td>\n",
       "    </tr>\n",
       "    <tr>\n",
       "      <th>17</th>\n",
       "      <td>9.516</td>\n",
       "      <td>0.05542</td>\n",
       "    </tr>\n",
       "    <tr>\n",
       "      <th>18</th>\n",
       "      <td>10.000</td>\n",
       "      <td>0.05510</td>\n",
       "    </tr>\n",
       "    <tr>\n",
       "      <th>19</th>\n",
       "      <td>10.505</td>\n",
       "      <td>0.05617</td>\n",
       "    </tr>\n",
       "    <tr>\n",
       "      <th>20</th>\n",
       "      <td>11.113</td>\n",
       "      <td>0.05891</td>\n",
       "    </tr>\n",
       "  </tbody>\n",
       "</table>\n",
       "</div>"
      ],
      "text/plain": [
       "         U        I\n",
       "6    3.514  0.06000\n",
       "7    4.008  0.06924\n",
       "8    5.023  0.07701\n",
       "9    5.512  0.07767\n",
       "10   6.009  0.07730\n",
       "11   6.499  0.07577\n",
       "12   7.018  0.07251\n",
       "13   7.516  0.06845\n",
       "14   7.995  0.06457\n",
       "15   8.512  0.06046\n",
       "16   9.003  0.05740\n",
       "17   9.516  0.05542\n",
       "18  10.000  0.05510\n",
       "19  10.505  0.05617\n",
       "20  11.113  0.05891"
      ]
     },
     "execution_count": 20,
     "metadata": {},
     "output_type": "execute_result"
    }
   ],
   "source": [
    "data_3V_cropped"
   ]
  },
  {
   "cell_type": "code",
   "execution_count": 21,
   "metadata": {},
   "outputs": [],
   "source": [
    "U_1__2_5V = data_2_5V_cropped['U'].values[data_2_5V_cropped['I'].values.argmax()]\n",
    "U_1__3V = data_3V_cropped['U'].values[data_3V_cropped['I'].values.argmax()]\n",
    "\n",
    "U_2__2_5V = data_2_5V_cropped['U'].values[data_2_5V_cropped['I'].values.argmin()]\n",
    "U_2__3V = data_3V_cropped['U'].values[data_3V_cropped['I'].values.argmin()]"
   ]
  },
  {
   "cell_type": "code",
   "execution_count": 22,
   "metadata": {},
   "outputs": [
    {
     "name": "stdout",
     "output_type": "stream",
     "text": [
      "Локальные максимум и минимум для ВАХ 2.5В: 4.52 В, 10.52 В\n",
      "Локальные максимум и минимум для ВАХ 3В:   5.51 В, 10.00 В\n"
     ]
    }
   ],
   "source": [
    "print(\"Локальные максимум и минимум для ВАХ 2.5В: %.2f В, %.2f В\" % (U_1__2_5V, U_2__2_5V))\n",
    "print(\"Локальные максимум и минимум для ВАХ 3В:   %.2f В, %.2f В\" % (U_1__3V, U_2__3V))"
   ]
  },
  {
   "cell_type": "code",
   "execution_count": 23,
   "metadata": {},
   "outputs": [
    {
     "name": "stdout",
     "output_type": "stream",
     "text": [
      "Оценка радиуса электронной оболочки (2.5 В): 2.798e-10 ± 1.860e-13 м\n",
      "Оценка радиуса электронной оболочки (3 В):   3.236e-10 ± 2.086e-13 м\n"
     ]
    }
   ],
   "source": [
    "l_2_5V, delta_l_2_5V = get_potential_well_size(U_1__2_5V * e, U_2__2_5V * e, m, delta_U * e, delta_U * e)\n",
    "l_3V, delta_l_3V     = get_potential_well_size(U_1__3V * e, U_2__3V * e, m, delta_U * e, delta_U * e) \n",
    "\n",
    "print(\"Оценка радиуса электронной оболочки (2.5 В): %.3e ± %.3e м\" % (l_2_5V, delta_l_2_5V))\n",
    "print(\"Оценка радиуса электронной оболочки (3 В):   %.3e ± %.3e м\" % (l_3V, delta_l_3V))"
   ]
  },
  {
   "cell_type": "markdown",
   "metadata": {},
   "source": [
    "Табличное значение: $ 1.98 \\cdot 10^{-10} $ м.\n",
    "\n",
    "Полученные величины по порядку величины совпадают с табличным значением. Расхождение в единицах вызвано тем, что радиус атома, по большей части, определяется способом, которым его измеряют."
   ]
  },
  {
   "cell_type": "code",
   "execution_count": 24,
   "metadata": {},
   "outputs": [
    {
     "name": "stdout",
     "output_type": "stream",
     "text": [
      "Оценка глубины потенциальной ямы (2.5 В): 2.86e-01 ± 2.6e-02 эВ\n",
      "Оценка глубины потенциальной ямы (3 В):  -1.92e+00 ± 2.6e-02 эВ\n"
     ]
    }
   ],
   "source": [
    "U_0__2_5V, delta_U_0__2_5V = get_potential_well_depth(U_1__2_5V * e, U_2__2_5V * e, delta_U * e, delta_U * e)\n",
    "U_0__3V, delta_U_0__3V     = get_potential_well_depth(U_1__3V * e, U_2__3V * e, delta_U * e, delta_U * e)\n",
    "\n",
    "U_0__2_5V /= e\n",
    "delta_U_0__2_5V /= e\n",
    "U_0__3V /= e\n",
    "delta_U_0__3V /= e\n",
    "\n",
    "print(\"Оценка глубины потенциальной ямы (2.5 В): %.2e ± %.1e эВ\" % (U_0__2_5V, delta_U_0__2_5V))\n",
    "print(\"Оценка глубины потенциальной ямы (3 В):  %.2e ± %.1e эВ\" % (U_0__3V, delta_U_0__3V))"
   ]
  },
  {
   "cell_type": "markdown",
   "metadata": {},
   "source": [
    "Отрицательный знак глубины потенциальной ямы, видимо, говорит о том, что при больших скоростях электронов атом ведет себя как потенциальный барьер."
   ]
  },
  {
   "cell_type": "markdown",
   "metadata": {},
   "source": [
    "### Оценка энергий максимумов"
   ]
  },
  {
   "cell_type": "markdown",
   "metadata": {},
   "source": [
    "$$\n",
    "\\sqrt{\\frac{E_n + U_0}{E_1 + U_0}} = n \\qquad \\Longrightarrow \\qquad E_n = E_1 \\cdot n^2 + U_0 \\cdot (n^2 - 1)\n",
    "$$"
   ]
  },
  {
   "cell_type": "code",
   "execution_count": 25,
   "metadata": {},
   "outputs": [],
   "source": [
    "def get_E_n(E_1, U_0, n):\n",
    "    return E_1 * n**2 + U_0 * (n**2 - 1)"
   ]
  },
  {
   "cell_type": "code",
   "execution_count": 26,
   "metadata": {},
   "outputs": [
    {
     "name": "stdout",
     "output_type": "stream",
     "text": [
      "Рассчитанные максимумы ВАХ 2.5 В, в вольтах: [ 4.518 18.93  42.95 ]\n",
      "Рассчитанные максимумы ВАХ 3 В, в вольтах: [ 5.512 16.283 34.235]\n"
     ]
    }
   ],
   "source": [
    "maxes_2_5V = numpy.array([get_E_n(U_1__2_5V, U_0__2_5V, n) for n in range(1,4)])\n",
    "maxes_3V = numpy.array([get_E_n(U_1__3V, U_0__3V, n) for n in range(1,4)])\n",
    "\n",
    "numpy.set_printoptions(precision=3)\n",
    "print(\"Рассчитанные максимумы ВАХ 2.5 В, в вольтах:\", maxes_2_5V)\n",
    "print(\"Рассчитанные максимумы ВАХ 3 В, в вольтах:\", maxes_3V)"
   ]
  },
  {
   "cell_type": "markdown",
   "metadata": {},
   "source": [
    "Видно, что все последующие максимумы расположены уже за пределами ионизационного потенциала, а потому не наблюдаются."
   ]
  },
  {
   "cell_type": "markdown",
   "metadata": {},
   "source": [
    "### Вероятность рассеяния электрона"
   ]
  },
  {
   "cell_type": "code",
   "execution_count": 27,
   "metadata": {},
   "outputs": [],
   "source": [
    "treshold = 3.0\n",
    "\n",
    "X_2_5V = data_2_5V[data_2_5V['U'] >= treshold]['U'].to_numpy()\n",
    "X_3V = data_3V[data_3V['U'] >= treshold]['U'].to_numpy()\n",
    "\n",
    "probs_2_5V = -numpy.log(data_2_5V[data_2_5V['U'] >= treshold]['I']).to_numpy()\n",
    "probs_3V = -numpy.log(data_3V[data_3V['U'] >= treshold]['I']).to_numpy()\n",
    "\n",
    "probs_2_5V_err = delta_I / probs_2_5V\n",
    "probs_3V_err = delta_I / probs_3V"
   ]
  },
  {
   "cell_type": "code",
   "execution_count": 28,
   "metadata": {},
   "outputs": [],
   "source": [
    "import matplotlib\n",
    "from matplotlib import pyplot as plt\n",
    "\n",
    "font = {'family' : 'Liberation Sans',\n",
    "        'weight' : 'normal',\n",
    "        'size'   : 16}"
   ]
  },
  {
   "cell_type": "code",
   "execution_count": 29,
   "metadata": {},
   "outputs": [],
   "source": [
    "matplotlib.rc('font', **font)"
   ]
  },
  {
   "cell_type": "code",
   "execution_count": 30,
   "metadata": {},
   "outputs": [
    {
     "data": {
      "image/png": "[encoded data removed]",
      "text/plain": [
       "<Figure size 1152x720 with 1 Axes>"
      ]
     },
     "metadata": {
      "needs_background": "light"
     },
     "output_type": "display_data"
    }
   ],
   "source": [
    "fig, ax = plt.subplots()\n",
    "\n",
    "ax.set_title(\"Вероятность рассеяния электрона (с точностью до константы)\")\n",
    "\n",
    "fig.set_figheight(10)\n",
    "fig.set_figwidth(16)\n",
    "\n",
    "#ax.set_xscale('log', basex=10)\n",
    "#ax.set_yscale('log', basey=10)\n",
    "\n",
    "ax.grid(color='#000000', alpha=0.15, linestyle='-', linewidth=1, which='major')\n",
    "ax.grid(color='#000000', alpha=0.1, linestyle='-', linewidth=0.5, which='minor')\n",
    "ax.xaxis.set_minor_locator(matplotlib.ticker.AutoMinorLocator())\n",
    "ax.yaxis.set_minor_locator(matplotlib.ticker.AutoMinorLocator())\n",
    "\n",
    "ax.errorbar(X_2_5V, probs_2_5V, xerr = delta_U, yerr = probs_2_5V_err,\n",
    "            ls = '', lw = 1.0, marker = 'x', solid_capstyle='projecting', capsize = 3, label = '2.5В')\n",
    "\n",
    "ax.errorbar(X_3V, probs_3V, xerr = delta_U, yerr = probs_3V_err,\n",
    "            ls = '', lw = 1.0, marker = 'x', solid_capstyle='projecting', capsize = 3, label = '3В')\n",
    "\n",
    "#ax.set_xlim(left = 2.0)\n",
    "\n",
    "ax.set_xlabel('Приложенное напряжение, В')\n",
    "ax.set_ylabel('Вероятность (с точностью до константы)')\n",
    "\n",
    "ax.legend(loc='upper left')\n",
    "plt.show();"
   ]
  },
  {
   "cell_type": "markdown",
   "metadata": {},
   "source": [
    "В отличии от графиков токов, здесь уже лучше прослеживается подобие полученных множеств точек.\n",
    "\n",
    "Здесь также хорошо видна тенденция к спаду вероятности до второго локального минимума, который достигнуть не удаётся по изложенным ранее причинам."
   ]
  },
  {
   "cell_type": "markdown",
   "metadata": {},
   "source": [
    "# Выводы"
   ]
  },
  {
   "cell_type": "markdown",
   "metadata": {},
   "source": [
    "1. На основе экспериментальных данных об ионизационном потенциале установлено, что в лампе содержится криптон.\n",
    "\n",
    "2. Построены вольт-амперные характеристики лампы в двух разных режимах ее работы.\n",
    "\n",
    "3. На основе полученных вольт-амперных характеристик сделан вывод, что действительно наблюдается эффект Рамзауэра.\n",
    "\n",
    "4. Получена грубая и две более точных оценки на радиус электронной оболочки атома. Итоговое значение - $ (3.0 \\pm 0.4) \\cdot 10^{-10} $ м. По порядку величины значение сошлось с табличными данными.\n",
    "\n",
    "5. Сделаны оценки эффективной глубины потенциальной ямы атома в разных режимах работы лампы. Оказалось, что при напряжении накала $ 3 $ В глубина отрицательна. Возможно, это означает, что в данном режиме работы лампы атом ведет себя как барьер; возможно также, что это просто неточность опыта.\n",
    "\n",
    "6. Построен график зависимости вероятности рассеяния электрона от приложенного напряжения. Данный график, возможно, косвенно подтверждает существование второго минимума вероятности, так как в его конце явно виден некоторый спад вероятности."
   ]
  }
 ],
 "metadata": {
  "kernelspec": {
   "display_name": "Python 3",
   "language": "python",
   "name": "python3"
  },
  "language_info": {
   "codemirror_mode": {
    "name": "ipython",
    "version": 3
   },
   "file_extension": ".py",
   "mimetype": "text/x-python",
   "name": "python",
   "nbconvert_exporter": "python",
   "pygments_lexer": "ipython3",
   "version": "3.7.3"
  }
 },
 "nbformat": 4,
 "nbformat_minor": 2
}
