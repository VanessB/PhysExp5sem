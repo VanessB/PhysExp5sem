{
 "cells": [
  {
   "cell_type": "markdown",
   "metadata": {},
   "source": [
    "# 1.2. Исследование эффекта Комптона\n",
    "\n",
    "## Бутаков Иван, Гладков Андрей\n",
    "\n",
    "**Цель работы:** с помощью сцинтилляционного спектрометра  исследовать энергетический спектр $\\gamma$-квантов, рассеянных на графите. Определить энергию покоя частиц, на которых происходит комптоновское рассеяние.\n",
    "\n",
    "**Оборудование**: источник $\\gamma$-квантов ${}^{137}Cs$ с энергией $662$ кэВ, сцинтиллятор, ФЭУ, графитовая мишень, лимб для отсчета углов."
   ]
  },
  {
   "cell_type": "markdown",
   "metadata": {},
   "source": [
    "## Теоретические сведения\n",
    "\n",
    "Рассеяние $\\gamma$-лучей в веществе относится к числу явлений, в которых особенно ясно проявляется двойственная природа излучения: волновая теория плохо описывает рассеяние рентгеновских и $\\gamma$-лучей. В частности, она не может объяснить, почему в составе рассеянного излучения кроме исходной длины волны с частотой $\\omega_0$ появляется дополнительная длинноволновая компонента, отсутствующая в спектре первичного излучения. \n",
    "\n",
    "Появление этой компоненты легко объяснимо, если считать что $\\gamma$-излучение представляет собой поток квантов (фотонов), имеющих энергию $h\\omega$ и импульс $p=h\\frac {\\omega}c$. Эффект Комптона интерпретируется как результат упругого соударения двух частиц: гамма-кванта и свободного электрона.\n",
    "\n",
    "Для эффекта Комптона справедливы следующие теоретические результаты:\n",
    "\n",
    "$\\Delta \\lambda = \\lambda_1-\\lambda_0 = \\frac h{mc}(1-\\cos \\theta) = \\Lambda_k(1-\\cos \\theta)$, где $\\Lambda_k = \\frac {h}{mc} = 2.42 \\cdot 10^{-10}$ cм. - комптоновская длина рассеяния электрона, $\\Delta \\lambda$ - изменение длины волны рассеянного излучения.\n",
    "\n",
    "Из формул следует, что комптоновское смещение не зависит ни от длины волны первичного излучения, ни от рода вещества, в котором происходит рассеяние.\n",
    "\n",
    "Переходя в формуле выше к энергиям излучения, можно получить зависимость $\\frac 1{\\epsilon(\\theta)} - \\frac 1{\\epsilon_0} = 1 - \\cos\\theta$, где $\\epsilon(\\theta)$ и $\\epsilon_0$ - энергии фотонов при углах рассеяния $0$ и $\\theta$ соответственно.\n",
    "\n",
    "Заменяя энергию квантов номером канала $N(\\theta)$, соответствующего вершине фотопика при указанном угле $\\theta$, получаем выражение $\\frac 1{N(\\theta)} - \\frac 1{N(0)} = a(1-\\cos \\theta)$, где $a$ - коэффициент, измеряемый экспериментально.\n",
    "\n",
    "Наконец, заметим, что при $\\theta = 90^{\\circ}$ формула с $\\epsilon$ преобразуется к виду $mc^2 \\left (\\frac 1{E(90)}-\\frac 1{E(0)} \\right ) = 1$, откуда $E_0=mc^2=E(0)\\frac {E(90)}{E(0)-E(90)} = E_{\\gamma} \\frac {N(90)}{N(0)-N(90)}$."
   ]
  },
  {
   "cell_type": "markdown",
   "metadata": {},
   "source": [
    "## Импортирование данных\n",
    "\n",
    "*phi* - угол в градусах, $N$ - канал, соответствующий максимуму фотопика, *counts* - соответствующее $N$ число отсчетов в канале, $lN$ и $rN$ - номера каналов, соответствующих уменьшению числа отсчетов примерно в два раза от максимума, *lcounts*, *rcounts* - точные значения числа отсчетов для двух предыдущих величин. "
   ]
  },
  {
   "cell_type": "code",
   "execution_count": 1,
   "metadata": {},
   "outputs": [
    {
     "data": {
      "text/html": [
       "<div>\n",
       "<style scoped>\n",
       "    .dataframe tbody tr th:only-of-type {\n",
       "        vertical-align: middle;\n",
       "    }\n",
       "\n",
       "    .dataframe tbody tr th {\n",
       "        vertical-align: top;\n",
       "    }\n",
       "\n",
       "    .dataframe thead th {\n",
       "        text-align: right;\n",
       "    }\n",
       "</style>\n",
       "<table border=\"1\" class=\"dataframe\">\n",
       "  <thead>\n",
       "    <tr style=\"text-align: right;\">\n",
       "      <th></th>\n",
       "      <th>phi</th>\n",
       "      <th>N</th>\n",
       "      <th>counts</th>\n",
       "      <th>lN</th>\n",
       "      <th>lcounts</th>\n",
       "      <th>rN</th>\n",
       "      <th>rcounts</th>\n",
       "    </tr>\n",
       "  </thead>\n",
       "  <tbody>\n",
       "    <tr>\n",
       "      <th>0</th>\n",
       "      <td>0</td>\n",
       "      <td>906</td>\n",
       "      <td>512</td>\n",
       "      <td>856</td>\n",
       "      <td>244</td>\n",
       "      <td>951</td>\n",
       "      <td>259</td>\n",
       "    </tr>\n",
       "    <tr>\n",
       "      <th>1</th>\n",
       "      <td>10</td>\n",
       "      <td>784</td>\n",
       "      <td>455</td>\n",
       "      <td>744</td>\n",
       "      <td>216</td>\n",
       "      <td>828</td>\n",
       "      <td>230</td>\n",
       "    </tr>\n",
       "    <tr>\n",
       "      <th>2</th>\n",
       "      <td>20</td>\n",
       "      <td>822</td>\n",
       "      <td>117</td>\n",
       "      <td>763</td>\n",
       "      <td>62</td>\n",
       "      <td>883</td>\n",
       "      <td>57</td>\n",
       "    </tr>\n",
       "    <tr>\n",
       "      <th>3</th>\n",
       "      <td>30</td>\n",
       "      <td>772</td>\n",
       "      <td>60</td>\n",
       "      <td>653</td>\n",
       "      <td>32</td>\n",
       "      <td>834</td>\n",
       "      <td>31</td>\n",
       "    </tr>\n",
       "    <tr>\n",
       "      <th>4</th>\n",
       "      <td>40</td>\n",
       "      <td>683</td>\n",
       "      <td>59</td>\n",
       "      <td>603</td>\n",
       "      <td>39</td>\n",
       "      <td>763</td>\n",
       "      <td>26</td>\n",
       "    </tr>\n",
       "    <tr>\n",
       "      <th>5</th>\n",
       "      <td>50</td>\n",
       "      <td>613</td>\n",
       "      <td>56</td>\n",
       "      <td>555</td>\n",
       "      <td>32</td>\n",
       "      <td>695</td>\n",
       "      <td>28</td>\n",
       "    </tr>\n",
       "    <tr>\n",
       "      <th>6</th>\n",
       "      <td>60</td>\n",
       "      <td>535</td>\n",
       "      <td>52</td>\n",
       "      <td>475</td>\n",
       "      <td>27</td>\n",
       "      <td>594</td>\n",
       "      <td>35</td>\n",
       "    </tr>\n",
       "    <tr>\n",
       "      <th>7</th>\n",
       "      <td>70</td>\n",
       "      <td>489</td>\n",
       "      <td>64</td>\n",
       "      <td>409</td>\n",
       "      <td>34</td>\n",
       "      <td>534</td>\n",
       "      <td>32</td>\n",
       "    </tr>\n",
       "    <tr>\n",
       "      <th>8</th>\n",
       "      <td>80</td>\n",
       "      <td>440</td>\n",
       "      <td>70</td>\n",
       "      <td>391</td>\n",
       "      <td>41</td>\n",
       "      <td>487</td>\n",
       "      <td>41</td>\n",
       "    </tr>\n",
       "    <tr>\n",
       "      <th>9</th>\n",
       "      <td>90</td>\n",
       "      <td>391</td>\n",
       "      <td>91</td>\n",
       "      <td>322</td>\n",
       "      <td>49</td>\n",
       "      <td>428</td>\n",
       "      <td>35</td>\n",
       "    </tr>\n",
       "    <tr>\n",
       "      <th>10</th>\n",
       "      <td>100</td>\n",
       "      <td>358</td>\n",
       "      <td>119</td>\n",
       "      <td>317</td>\n",
       "      <td>60</td>\n",
       "      <td>397</td>\n",
       "      <td>44</td>\n",
       "    </tr>\n",
       "    <tr>\n",
       "      <th>11</th>\n",
       "      <td>110</td>\n",
       "      <td>339</td>\n",
       "      <td>139</td>\n",
       "      <td>298</td>\n",
       "      <td>84</td>\n",
       "      <td>371</td>\n",
       "      <td>65</td>\n",
       "    </tr>\n",
       "    <tr>\n",
       "      <th>12</th>\n",
       "      <td>120</td>\n",
       "      <td>302</td>\n",
       "      <td>156</td>\n",
       "      <td>262</td>\n",
       "      <td>77</td>\n",
       "      <td>331</td>\n",
       "      <td>67</td>\n",
       "    </tr>\n",
       "  </tbody>\n",
       "</table>\n",
       "</div>"
      ],
      "text/plain": [
       "    phi    N  counts   lN  lcounts   rN  rcounts\n",
       "0     0  906     512  856      244  951      259\n",
       "1    10  784     455  744      216  828      230\n",
       "2    20  822     117  763       62  883       57\n",
       "3    30  772      60  653       32  834       31\n",
       "4    40  683      59  603       39  763       26\n",
       "5    50  613      56  555       32  695       28\n",
       "6    60  535      52  475       27  594       35\n",
       "7    70  489      64  409       34  534       32\n",
       "8    80  440      70  391       41  487       41\n",
       "9    90  391      91  322       49  428       35\n",
       "10  100  358     119  317       60  397       44\n",
       "11  110  339     139  298       84  371       65\n",
       "12  120  302     156  262       77  331       67"
      ]
     },
     "execution_count": 1,
     "metadata": {},
     "output_type": "execute_result"
    }
   ],
   "source": [
    "import pandas\n",
    "import numpy as np\n",
    "\n",
    "data = pandas.read_csv('data.csv', sep = ' ', header = 0, comment='#', dtype = np.int64)\n",
    "\n",
    "data"
   ]
  },
  {
   "cell_type": "markdown",
   "metadata": {},
   "source": [
    "### Обозначения\n",
    "\n",
    "*phi*, $N$, $rN$, $lN$ - те же величины, что и выше.\n",
    "\n",
    "Погрешность *dphi* измерения угла принимается равной $1^{\\circ}$.\n",
    "\n",
    "$dN$ - погрешность $N$. Оценивается как половина длины интервала, на котором число отсчетов уменьшается примерно в два раза относительно максимума. \n",
    "\n",
    "$x = 1-\\cos\\theta$, $dx$ - его погрешность.\n",
    "\n",
    "$y = \\frac 1N$, $dy$ - его погрешность."
   ]
  },
  {
   "cell_type": "code",
   "execution_count": 2,
   "metadata": {},
   "outputs": [],
   "source": [
    "phi = data['phi']\n",
    "dphi = 1\n",
    "\n",
    "x = 1 - np.cos(phi * np.pi / 180)\n",
    "dx = np.abs(dphi * np.pi / 180 * np.sin(phi))\n",
    "\n",
    "rN = data['rN']\n",
    "lN = data['lN']\n",
    "dN = (rN - lN) / 2\n",
    "\n",
    "N = data['N']\n",
    "y = 1 / N\n",
    "dy = dN / N ** 2\n",
    "\n",
    "line = np.polyfit(x, y, 1)\n",
    "sp = np.linspace(0, 1.55, 20)\n",
    "spy = np.polyval(line, sp)"
   ]
  },
  {
   "cell_type": "markdown",
   "metadata": {},
   "source": [
    "## График"
   ]
  },
  {
   "cell_type": "code",
   "execution_count": 7,
   "metadata": {},
   "outputs": [
    {
     "data": {
      "image/png": "[encoded data removed]",
      "text/plain": [
       "<Figure size 1152x720 with 1 Axes>"
      ]
     },
     "metadata": {
      "needs_background": "light"
     },
     "output_type": "display_data"
    }
   ],
   "source": [
    "import matplotlib\n",
    "from matplotlib import pyplot as plt\n",
    "\n",
    "font = {'family' : 'Liberation Sans',\n",
    "        'weight' : 'normal',\n",
    "        'size'   : 16}\n",
    "\n",
    "matplotlib.rc('font', **font)\n",
    "\n",
    "fig, ax = plt.subplots()\n",
    "\n",
    "ax.set_title(\"Зависимость величины $1/N$ от величины $1-\\\\cos(\\\\theta)$\")\n",
    "\n",
    "fig.set_figheight(10)\n",
    "fig.set_figwidth(16)\n",
    "\n",
    "ax.grid(color='#000000', alpha=0.15, linestyle='-', linewidth=1, which='major')\n",
    "ax.grid(color='#000000', alpha=0.1, linestyle='-', linewidth=0.5, which='minor')\n",
    "ax.xaxis.set_minor_locator(matplotlib.ticker.AutoMinorLocator())\n",
    "ax.yaxis.set_minor_locator(matplotlib.ticker.AutoMinorLocator())\n",
    "\n",
    "ax.errorbar(x, y, xerr = dx, yerr = dy,\n",
    "            ls = '', lw = 1.0, marker = 'x', solid_capstyle='projecting', capsize = 3, label = 'Эксперимент')\n",
    "ax.plot(sp, spy, label = 'Линейная ппроксимация')\n",
    "\n",
    "\n",
    "ax.set_xlabel('$1-\\\\cos(\\\\theta)$, ед.')\n",
    "ax.set_ylabel('$1/N$, ед.')\n",
    "\n",
    "ax.legend(loc='upper left')\n",
    "plt.show();"
   ]
  },
  {
   "cell_type": "code",
   "execution_count": 4,
   "metadata": {},
   "outputs": [
    {
     "name": "stdout",
     "output_type": "stream",
     "text": [
      "Коэффициенты прямой: a = 0.001398, b = 0.001144\n"
     ]
    }
   ],
   "source": [
    "print('Коэффициенты прямой: a = %f, b = %f' %(line[0], line[1]))"
   ]
  },
  {
   "cell_type": "markdown",
   "metadata": {},
   "source": [
    "Из графика найдем значения $N(90)$ и $N(0)$:"
   ]
  },
  {
   "cell_type": "code",
   "execution_count": 5,
   "metadata": {},
   "outputs": [
    {
     "name": "stdout",
     "output_type": "stream",
     "text": [
      "1/N(0) = 0.001144\n",
      "1/N(90) = 0.002543\n",
      "\n",
      "N(0) = 874\n",
      "N(90) = 393\n"
     ]
    }
   ],
   "source": [
    "_1N0 = np.polyval(line, 0)\n",
    "_1N90 = np.polyval(line, 1)\n",
    "N0 = 1/_1N0\n",
    "N90 = 1/_1N90\n",
    "\n",
    "print('1/N(0) = %f' %(_1N0))\n",
    "print('1/N(90) = %f' %(_1N90))\n",
    "print()\n",
    "print('N(0) = %1.f' %(N0))\n",
    "print('N(90) = %1.f' %(N90))"
   ]
  },
  {
   "cell_type": "markdown",
   "metadata": {},
   "source": [
    "Зная это, найдем энергию покоя электронов по формуле $E_0=mc^2 = E_{\\gamma}\\frac{N(90)}{N(0)-N(90)}$.\n",
    "\n",
    "Погрешность вычисляем по формуле $\\delta E_0 = \\frac{E_{\\gamma}}{(N(0)-N(90))^2}\\sqrt{N(0)^2 \\cdot \\delta N(0)^2 + N(90)^2 \\cdot \\delta N(90)^2}$."
   ]
  },
  {
   "cell_type": "code",
   "execution_count": 6,
   "metadata": {},
   "outputs": [
    {
     "name": "stdout",
     "output_type": "stream",
     "text": [
      "E_0 = 542 ± 123 кэВ.\n"
     ]
    }
   ],
   "source": [
    "E_g = 662 #кэВ\n",
    "\n",
    "delta1N0 = dy[0]\n",
    "delta1N90 = dy[10]\n",
    "deltaN0 = delta1N0 / _1N0 ** 2\n",
    "deltaN90 = delta1N90 / _1N90 ** 2\n",
    "\n",
    "deltaE = E_g * np.sqrt((N0 * deltaN0)**2 + (N90 * deltaN90)**2) / (N0 - N90)**2\n",
    "\n",
    "print('E_0 = %1.f ± %1.f кэВ.' %(E_g * N90 / (N0 - N90), deltaE))"
   ]
  },
  {
   "cell_type": "markdown",
   "metadata": {},
   "source": [
    "## Выводы\n",
    "\n",
    "1. Cнята зависимость $1/N$ от $1-\\cos\\theta$, доказана её линейность. Это подтверждает правильность формулы для комптоновского рассеяния и состоятельность самого эффекта Комптона.\n",
    "2. Измерена энергия покоя электронов, на которых идет рассеяние. Она составила $542 \\pm 123$ кэВ. Точность полученного результата определяется точностью отсчета угла (точнее одного градуса сложно гарантировать) и погрешностью определения фотопика (возможно, наш подход вычисления погрешности дает завышенные значения)."
   ]
  }
 ],
 "metadata": {
  "kernelspec": {
   "display_name": "Python 3",
   "language": "python",
   "name": "python3"
  },
  "language_info": {
   "codemirror_mode": {
    "name": "ipython",
    "version": 3
   },
   "file_extension": ".py",
   "mimetype": "text/x-python",
   "name": "python",
   "nbconvert_exporter": "python",
   "pygments_lexer": "ipython3",
   "version": "3.7.3"
  }
 },
 "nbformat": 4,
 "nbformat_minor": 2
}
