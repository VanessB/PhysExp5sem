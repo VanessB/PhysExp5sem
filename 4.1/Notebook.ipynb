{
 "cells": [
  {
   "cell_type": "markdown",
   "metadata": {},
   "source": [
    "# 4.1 Определение энергии $\\alpha$-частиц по величине их пробега в воздухе\n",
    "\n",
    "### Бутаков Иван, Гладков Андрей; Б05-871\n",
    "\n",
    "**Цель работы:** измерить пробег $\\alpha$-частиц в воздухе двумя способами: с помощью торцевого счетчика Гейгера и сцинтилляционного счетчика и по полученным величинам определить энергию частиц.\n",
    "\n",
    "**Оборудование:** торцевой счетчик Гейгера, сцинтилляционный счетчик, ионизационная камера."
   ]
  },
  {
   "cell_type": "markdown",
   "metadata": {},
   "source": [
    "## Теория\n",
    "\n",
    "При $\\alpha$-распаде ядро исходное родительское ядро испускает ядро гелия и превращается в дочернее ядро, число протонов и нейтронов которого уменьшается на 2 единицы. Периоды полураспада $\\alpha$-активных ядер лежат в широких пределах $3 \\cdot 10^{-7}$ c - $1,4 \\cdot 10^{17}$ лет. Характерные энергии $\\alpha$-частиц - от $4$ до $9$ МэВ. Связь между энергией $E$ частицы и периодом полураспада $T$ такова: $\\lg{T}=\\frac a{\\sqrt{E}} + b$.\n",
    "\n",
    "Экспериментально энергию $\\alpha$-частиц удобно определять по их пробегу в веществе. Тяжелые заряженные частицы с малым зарядом $Z\\sim 2$ при прохождении в веществе теряют энергию главным образом в результате неупругих соударений с атомами вещества, вызывающими ионизацию.\n",
    "\n",
    "Для длины пробега частицы справедлива формула $\\displaystyle R \\sim \\frac{Mv_0^4}{z^2} \\sim E^2$. Для $\\alpha$-частиц с энергией $4-9$ МэВ при $15^ {\\circ} C, p = 10^5$ Па. выполняется $\\displaystyle R = 0.32E^{\\frac 32}$. Для пересчета параметров пробега от пары $(p_1, T_1)$ к паре $(p_2, T_2)$ можно использовать соображения МКТ."
   ]
  },
  {
   "cell_type": "markdown",
   "metadata": {},
   "source": [
    "## Импортирование данных"
   ]
  },
  {
   "cell_type": "code",
   "execution_count": 1,
   "metadata": {},
   "outputs": [],
   "source": [
    "import pandas\n",
    "import numpy as np"
   ]
  },
  {
   "cell_type": "code",
   "execution_count": 2,
   "metadata": {},
   "outputs": [],
   "source": [
    "data1 = pandas.read_csv('data_I.csv', sep = ' ', header = 0, comment='#', dtype = np.float64)\n",
    "\n",
    "x_start = 1 #cm\n",
    "deltax = 0.1 #сm - погрешность х\n",
    "\n",
    "X1 = np.array(data1['x']) + x_start\n",
    "N1 = np.array(data1['N'])"
   ]
  },
  {
   "cell_type": "markdown",
   "metadata": {},
   "source": [
    "## Исследование пробега $\\alpha$-частиц с помощью счетчика Гейгера"
   ]
  },
  {
   "cell_type": "markdown",
   "metadata": {},
   "source": [
    "### Обозначения\n",
    "$x$, см. - расстояние между источником и счетчиком, $N$ - количество обнаруженных частиц за $t$ секунд."
   ]
  },
  {
   "cell_type": "code",
   "execution_count": 3,
   "metadata": {},
   "outputs": [
    {
     "data": {
      "text/html": [
       "<div>\n",
       "<style scoped>\n",
       "    .dataframe tbody tr th:only-of-type {\n",
       "        vertical-align: middle;\n",
       "    }\n",
       "\n",
       "    .dataframe tbody tr th {\n",
       "        vertical-align: top;\n",
       "    }\n",
       "\n",
       "    .dataframe thead th {\n",
       "        text-align: right;\n",
       "    }\n",
       "</style>\n",
       "<table border=\"1\" class=\"dataframe\">\n",
       "  <thead>\n",
       "    <tr style=\"text-align: right;\">\n",
       "      <th></th>\n",
       "      <th>x</th>\n",
       "      <th>N</th>\n",
       "      <th>t</th>\n",
       "    </tr>\n",
       "  </thead>\n",
       "  <tbody>\n",
       "    <tr>\n",
       "      <th>0</th>\n",
       "      <td>0.0</td>\n",
       "      <td>433.0</td>\n",
       "      <td>29.872</td>\n",
       "    </tr>\n",
       "    <tr>\n",
       "      <th>1</th>\n",
       "      <td>0.5</td>\n",
       "      <td>459.0</td>\n",
       "      <td>30.234</td>\n",
       "    </tr>\n",
       "    <tr>\n",
       "      <th>2</th>\n",
       "      <td>1.0</td>\n",
       "      <td>494.0</td>\n",
       "      <td>30.026</td>\n",
       "    </tr>\n",
       "    <tr>\n",
       "      <th>3</th>\n",
       "      <td>1.5</td>\n",
       "      <td>446.0</td>\n",
       "      <td>29.916</td>\n",
       "    </tr>\n",
       "    <tr>\n",
       "      <th>4</th>\n",
       "      <td>2.0</td>\n",
       "      <td>430.0</td>\n",
       "      <td>30.266</td>\n",
       "    </tr>\n",
       "    <tr>\n",
       "      <th>5</th>\n",
       "      <td>2.5</td>\n",
       "      <td>425.0</td>\n",
       "      <td>30.263</td>\n",
       "    </tr>\n",
       "    <tr>\n",
       "      <th>6</th>\n",
       "      <td>3.0</td>\n",
       "      <td>418.0</td>\n",
       "      <td>30.137</td>\n",
       "    </tr>\n",
       "    <tr>\n",
       "      <th>7</th>\n",
       "      <td>3.5</td>\n",
       "      <td>463.0</td>\n",
       "      <td>30.332</td>\n",
       "    </tr>\n",
       "    <tr>\n",
       "      <th>8</th>\n",
       "      <td>4.0</td>\n",
       "      <td>451.0</td>\n",
       "      <td>31.121</td>\n",
       "    </tr>\n",
       "    <tr>\n",
       "      <th>9</th>\n",
       "      <td>4.5</td>\n",
       "      <td>467.0</td>\n",
       "      <td>31.579</td>\n",
       "    </tr>\n",
       "    <tr>\n",
       "      <th>10</th>\n",
       "      <td>5.0</td>\n",
       "      <td>481.0</td>\n",
       "      <td>31.341</td>\n",
       "    </tr>\n",
       "    <tr>\n",
       "      <th>11</th>\n",
       "      <td>5.5</td>\n",
       "      <td>460.0</td>\n",
       "      <td>30.414</td>\n",
       "    </tr>\n",
       "    <tr>\n",
       "      <th>12</th>\n",
       "      <td>6.0</td>\n",
       "      <td>427.0</td>\n",
       "      <td>30.930</td>\n",
       "    </tr>\n",
       "    <tr>\n",
       "      <th>13</th>\n",
       "      <td>6.5</td>\n",
       "      <td>462.0</td>\n",
       "      <td>31.898</td>\n",
       "    </tr>\n",
       "    <tr>\n",
       "      <th>14</th>\n",
       "      <td>7.0</td>\n",
       "      <td>364.0</td>\n",
       "      <td>30.166</td>\n",
       "    </tr>\n",
       "    <tr>\n",
       "      <th>15</th>\n",
       "      <td>7.5</td>\n",
       "      <td>366.0</td>\n",
       "      <td>31.854</td>\n",
       "    </tr>\n",
       "    <tr>\n",
       "      <th>16</th>\n",
       "      <td>8.0</td>\n",
       "      <td>240.0</td>\n",
       "      <td>30.443</td>\n",
       "    </tr>\n",
       "    <tr>\n",
       "      <th>17</th>\n",
       "      <td>8.5</td>\n",
       "      <td>126.0</td>\n",
       "      <td>31.955</td>\n",
       "    </tr>\n",
       "    <tr>\n",
       "      <th>18</th>\n",
       "      <td>9.0</td>\n",
       "      <td>63.0</td>\n",
       "      <td>30.447</td>\n",
       "    </tr>\n",
       "    <tr>\n",
       "      <th>19</th>\n",
       "      <td>9.5</td>\n",
       "      <td>12.0</td>\n",
       "      <td>31.740</td>\n",
       "    </tr>\n",
       "    <tr>\n",
       "      <th>20</th>\n",
       "      <td>10.0</td>\n",
       "      <td>9.0</td>\n",
       "      <td>30.997</td>\n",
       "    </tr>\n",
       "  </tbody>\n",
       "</table>\n",
       "</div>"
      ],
      "text/plain": [
       "       x      N       t\n",
       "0    0.0  433.0  29.872\n",
       "1    0.5  459.0  30.234\n",
       "2    1.0  494.0  30.026\n",
       "3    1.5  446.0  29.916\n",
       "4    2.0  430.0  30.266\n",
       "5    2.5  425.0  30.263\n",
       "6    3.0  418.0  30.137\n",
       "7    3.5  463.0  30.332\n",
       "8    4.0  451.0  31.121\n",
       "9    4.5  467.0  31.579\n",
       "10   5.0  481.0  31.341\n",
       "11   5.5  460.0  30.414\n",
       "12   6.0  427.0  30.930\n",
       "13   6.5  462.0  31.898\n",
       "14   7.0  364.0  30.166\n",
       "15   7.5  366.0  31.854\n",
       "16   8.0  240.0  30.443\n",
       "17   8.5  126.0  31.955\n",
       "18   9.0   63.0  30.447\n",
       "19   9.5   12.0  31.740\n",
       "20  10.0    9.0  30.997"
      ]
     },
     "execution_count": 3,
     "metadata": {},
     "output_type": "execute_result"
    }
   ],
   "source": [
    "data1"
   ]
  },
  {
   "cell_type": "markdown",
   "metadata": {},
   "source": [
    "### График "
   ]
  },
  {
   "cell_type": "markdown",
   "metadata": {},
   "source": [
    "Будем приближать участок спада функцией вида $f(x) = b e^{cx-a}$, поскольку она визуально похожа на экспоненту."
   ]
  },
  {
   "cell_type": "code",
   "execution_count": 4,
   "metadata": {},
   "outputs": [
    {
     "name": "stderr",
     "output_type": "stream",
     "text": [
      "/usr/lib/python3/dist-packages/ipykernel_launcher.py:2: RuntimeWarning: overflow encountered in exp\n",
      "  \n"
     ]
    }
   ],
   "source": [
    "def exp_fun(x, a, b, c):\n",
    "    return b * np.exp(c * x - a)\n",
    "\n",
    "from scipy.optimize import curve_fit\n",
    "\n",
    "X1_cropped = [X1[i] for i in range(len(X1)) if 8.1 < X1[i] < 12.1]\n",
    "N1_cropped = [N1[i] for i in range(len(N1)) if 8.1 < X1[i] < 12.1]\n",
    "\n",
    "optimal, _ = curve_fit(exp_fun, X1_cropped, N1_cropped)\n",
    "\n",
    "X1_opt = np.linspace(8, 11, 50)\n",
    "N1_opt = np.array([exp_fun(x, optimal[0], optimal[1], optimal[2]) for x in X1_opt])"
   ]
  },
  {
   "cell_type": "code",
   "execution_count": 5,
   "metadata": {},
   "outputs": [
    {
     "data": {
      "text/plain": [
       "<Figure size 1600x1000 with 1 Axes>"
      ]
     },
     "metadata": {},
     "output_type": "display_data"
    }
   ],
   "source": [
    "import matplotlib\n",
    "from matplotlib import pyplot as plt\n",
    "\n",
    "font = {'family' : 'Liberation Sans',\n",
    "        'weight' : 'normal',\n",
    "        'size'   : 16}\n",
    "\n",
    "matplotlib.rc('font', **font)\n",
    "\n",
    "fig, ax = plt.subplots()\n",
    "\n",
    "ax.set_title(\"Зависимость числа регистрируемых частиц от расстояния между источником и счетчиком\")\n",
    "\n",
    "fig.set_figheight(10)\n",
    "fig.set_figwidth(16)\n",
    "\n",
    "#ax.set_xscale('log', basex=10)\n",
    "#ax.set_yscale('log', basey=10)\n",
    "\n",
    "ax.grid(color='#000000', alpha=0.15, linestyle='-', linewidth=1, which='major')\n",
    "ax.grid(color='#000000', alpha=0.1, linestyle='-', linewidth=0.5, which='minor')\n",
    "ax.xaxis.set_minor_locator(matplotlib.ticker.AutoMinorLocator())\n",
    "ax.yaxis.set_minor_locator(matplotlib.ticker.AutoMinorLocator())\n",
    "\n",
    "ax.errorbar(X1, N1, xerr = deltax, yerr = 0,\n",
    "          ls = '', lw = 1.0, marker = 'x', solid_capstyle='projecting', capsize = 3, label = '')\n",
    "\n",
    "ax.plot(X1_opt, N1_opt, lw = 1.0, label = 'Аппроксимация')\n",
    "ax.plot(X1, N1, lw = 1.0, label = 'Опыт')\n",
    "\n",
    "#hline_x = [0.0, 0.2]\n",
    "#hline_y = [0.0, 0.0]\n",
    "#ax.plot(hline_x, hline_y)\n",
    "\n",
    "ax.set_xlabel('Расстояние х, см.')\n",
    "ax.set_ylabel('Частиц N, шт')\n",
    "\n",
    "ax.legend(loc='upper left')\n",
    "plt.show();"
   ]
  },
  {
   "cell_type": "markdown",
   "metadata": {},
   "source": [
    "Средний пробег оценим как расстояние от точки \"обрыва\" $(8.25)$ см. + модуль обратного углового коэффициента в показателе экспоненты (который является характерным расстоянием, которое альфа-частица проходит в веществе):"
   ]
  },
  {
   "cell_type": "code",
   "execution_count": 6,
   "metadata": {},
   "outputs": [
    {
     "name": "stdout",
     "output_type": "stream",
     "text": [
      "Модуль обратного углового коэффициента: 1.1 см.\n",
      "Средний пробег равен 9.1 см.\n"
     ]
    }
   ],
   "source": [
    "print('Модуль обратного углового коэффициента: %.1f см.' %(-optimal[2]))\n",
    "R1_mean = 8.25 - 1 / optimal[2]\n",
    "print('Средний пробег равен %.1f см.' %(R1_mean))"
   ]
  },
  {
   "cell_type": "markdown",
   "metadata": {},
   "source": [
    "Экстраполированный пробег, как следует из продолжения зеленого прямолинейного участка от $[8.5;  9.5]$ см. до пересениния с горизонталью, равен $10.1$ см. Этот отрезок наиболее подходит под соответствующую касательную из лабника.\n",
    "\n",
    "У нас не получилось ожидаемого графика с точкой перегиба. Тем не менее, если бы она была, то, как следует из нашего рисунка, она находилась бы в промежутке $[7.5; 10.5]$ см. В качестве оценки погрешности среднего пробега возьмём расстояние от нашей точки до правой границы, то есть $10.5 - 9.1 \\approx 1.4$ см.\n",
    "\n",
    "Погрешность экстраполированного пробега складывается из неточности определения искомой касательной и неточности определняи точки пересения с осью абсцисс. Оценим эту величину как $0.5$ см.\n",
    "\n",
    "Итого, $R_{ср1} = 9.1 \\pm 1.4$ cм, $R_{э1} = 10.2 \\pm 0.5$ см.\n",
    "\n",
    "Пересчитаем пробег в г/$см^2$ по формуле $R' = \\rho R$, где $\\rho$ - плотность среды (воздуха)."
   ]
  },
  {
   "cell_type": "code",
   "execution_count": 7,
   "metadata": {},
   "outputs": [
    {
     "name": "stdout",
     "output_type": "stream",
     "text": [
      "R_1ср = 0.012 ± 0.002 г/см^2.\n",
      "R_1э = 0.0132 ± 0.0003 г/см^2.\n"
     ]
    }
   ],
   "source": [
    "rho = 1.29e-3\n",
    "print('R_1ср = %.3f ± %.3f г/см^2.' %(rho * 9.1, rho * 1.4))\n",
    "print('R_1э = %.4f ± %.4f г/см^2.' %(rho * 10.2, rho * 0.2))"
   ]
  },
  {
   "cell_type": "markdown",
   "metadata": {},
   "source": [
    "## Исследование пробега $\\alpha$-частиц с помощью сцинтилляционного счетчика"
   ]
  },
  {
   "cell_type": "markdown",
   "metadata": {},
   "source": [
    "### Импортирование данных"
   ]
  },
  {
   "cell_type": "code",
   "execution_count": 8,
   "metadata": {},
   "outputs": [],
   "source": [
    "data2 = pandas.read_csv('data_II.csv', sep = ' ', header = 0, comment='#', dtype = np.float64)\n",
    "deltaP = 1 #в торах"
   ]
  },
  {
   "cell_type": "markdown",
   "metadata": {},
   "source": [
    "Измерили барометром атмосферное давление:"
   ]
  },
  {
   "cell_type": "code",
   "execution_count": 9,
   "metadata": {},
   "outputs": [],
   "source": [
    "P_0 = 100600 #Па"
   ]
  },
  {
   "cell_type": "markdown",
   "metadata": {},
   "source": [
    "### Обозначения\n",
    "\n",
    "$P$ - давление в торах, $N$ - количество обнаруженных частиц за 10 секунд."
   ]
  },
  {
   "cell_type": "code",
   "execution_count": 10,
   "metadata": {},
   "outputs": [
    {
     "data": {
      "text/html": [
       "<div>\n",
       "<style scoped>\n",
       "    .dataframe tbody tr th:only-of-type {\n",
       "        vertical-align: middle;\n",
       "    }\n",
       "\n",
       "    .dataframe tbody tr th {\n",
       "        vertical-align: top;\n",
       "    }\n",
       "\n",
       "    .dataframe thead th {\n",
       "        text-align: right;\n",
       "    }\n",
       "</style>\n",
       "<table border=\"1\" class=\"dataframe\">\n",
       "  <thead>\n",
       "    <tr style=\"text-align: right;\">\n",
       "      <th></th>\n",
       "      <th>P</th>\n",
       "      <th>N</th>\n",
       "    </tr>\n",
       "  </thead>\n",
       "  <tbody>\n",
       "    <tr>\n",
       "      <th>0</th>\n",
       "      <td>745.0</td>\n",
       "      <td>3858.0</td>\n",
       "    </tr>\n",
       "    <tr>\n",
       "      <th>1</th>\n",
       "      <td>745.0</td>\n",
       "      <td>3753.0</td>\n",
       "    </tr>\n",
       "    <tr>\n",
       "      <th>2</th>\n",
       "      <td>745.0</td>\n",
       "      <td>3814.0</td>\n",
       "    </tr>\n",
       "    <tr>\n",
       "      <th>3</th>\n",
       "      <td>740.0</td>\n",
       "      <td>3804.0</td>\n",
       "    </tr>\n",
       "    <tr>\n",
       "      <th>4</th>\n",
       "      <td>740.0</td>\n",
       "      <td>3755.0</td>\n",
       "    </tr>\n",
       "    <tr>\n",
       "      <th>...</th>\n",
       "      <td>...</td>\n",
       "      <td>...</td>\n",
       "    </tr>\n",
       "    <tr>\n",
       "      <th>79</th>\n",
       "      <td>445.0</td>\n",
       "      <td>11.0</td>\n",
       "    </tr>\n",
       "    <tr>\n",
       "      <th>80</th>\n",
       "      <td>445.0</td>\n",
       "      <td>8.0</td>\n",
       "    </tr>\n",
       "    <tr>\n",
       "      <th>81</th>\n",
       "      <td>440.0</td>\n",
       "      <td>4.0</td>\n",
       "    </tr>\n",
       "    <tr>\n",
       "      <th>82</th>\n",
       "      <td>440.0</td>\n",
       "      <td>3.0</td>\n",
       "    </tr>\n",
       "    <tr>\n",
       "      <th>83</th>\n",
       "      <td>440.0</td>\n",
       "      <td>4.0</td>\n",
       "    </tr>\n",
       "  </tbody>\n",
       "</table>\n",
       "<p>84 rows × 2 columns</p>\n",
       "</div>"
      ],
      "text/plain": [
       "        P       N\n",
       "0   745.0  3858.0\n",
       "1   745.0  3753.0\n",
       "2   745.0  3814.0\n",
       "3   740.0  3804.0\n",
       "4   740.0  3755.0\n",
       "..    ...     ...\n",
       "79  445.0    11.0\n",
       "80  445.0     8.0\n",
       "81  440.0     4.0\n",
       "82  440.0     3.0\n",
       "83  440.0     4.0\n",
       "\n",
       "[84 rows x 2 columns]"
      ]
     },
     "execution_count": 10,
     "metadata": {},
     "output_type": "execute_result"
    }
   ],
   "source": [
    "data2"
   ]
  },
  {
   "cell_type": "markdown",
   "metadata": {},
   "source": [
    "### График "
   ]
  },
  {
   "cell_type": "code",
   "execution_count": 11,
   "metadata": {},
   "outputs": [],
   "source": [
    "data2_m = data2.groupby(['P']).mean().reset_index()\n",
    "\n",
    "P2 = np.array(data2_m['P'])\n",
    "P2 = P2 * P_0 / (0.76 * 9.8 * 13600) #пересчет на наше атмосферное давление\n",
    "P2 = max(P2) - P2\n",
    "N2 = np.array(data2_m['N'])\n",
    "\n",
    "P2 = np.delete(P2, len(P2) - 1)\n",
    "N2 = np.delete(N2, len(N2) - 1)"
   ]
  },
  {
   "cell_type": "code",
   "execution_count": 12,
   "metadata": {
    "scrolled": true
   },
   "outputs": [],
   "source": [
    "dP2 = P2\n",
    "dN2 = N2\n",
    "\n",
    "dP2 = np.delete(dP2, 0)\n",
    "dN2 = np.delete(dN2, 0)\n",
    "dP2 = np.append(dP2, 0)\n",
    "dN2 = np.append(dN2, 0)\n",
    "\n",
    "dN2dP2 = np.zeros(len(P2))\n",
    "\n",
    "for i in range(len(P2)):\n",
    "    dN2dP2[i] = (N2[i] - dN2[i]) / (P2[i] - dP2[i])\n",
    "dN2dP2 = np.delete(dN2dP2, len(dP2) - 1)\n",
    "dN2dP2 *= -100\n",
    "P2_ = np.delete(P2, len(P2) - 1)\n",
    "\n",
    "dN2dP2_f = np.polyfit(P2_, dN2dP2, 10)\n",
    "sp2 = np.linspace(19, 270, 100)\n",
    "Y2 = [np.polyval(dN2dP2_f, i) for i in sp2]"
   ]
  },
  {
   "cell_type": "code",
   "execution_count": 13,
   "metadata": {},
   "outputs": [
    {
     "data": {
      "image/png": "[encoded data removed]",
      "text/plain": [
       "<Figure size 1152x720 with 1 Axes>"
      ]
     },
     "metadata": {
      "needs_background": "light"
     },
     "output_type": "display_data"
    }
   ],
   "source": [
    "import matplotlib\n",
    "from matplotlib import pyplot as plt\n",
    "\n",
    "font = {'family' : 'Liberation Sans',\n",
    "        'weight' : 'normal',\n",
    "        'size'   : 16}\n",
    "\n",
    "matplotlib.rc('font', **font)\n",
    "\n",
    "fig, ax = plt.subplots()\n",
    "\n",
    "ax.set_title(\"Зависимость числа регистрируемых частиц от давления\")\n",
    "\n",
    "fig.set_figheight(10)\n",
    "fig.set_figwidth(16)\n",
    "\n",
    "ax.grid(color='#000000', alpha=0.15, linestyle='-', linewidth=1, which='major')\n",
    "ax.grid(color='#000000', alpha=0.1, linestyle='-', linewidth=0.5, which='minor')\n",
    "ax.xaxis.set_minor_locator(matplotlib.ticker.AutoMinorLocator())\n",
    "ax.yaxis.set_minor_locator(matplotlib.ticker.AutoMinorLocator())\n",
    "\n",
    "ax.errorbar(P2, N2, xerr = deltaP, yerr = 0,\n",
    "            ls = '', lw = 1.0, marker = 'x', solid_capstyle='projecting', capsize = 3)\n",
    "\n",
    "ax.plot(P2, N2, lw = 2.5, label = 'Число частиц')\n",
    "ax.plot(sp2, Y2, lw = 1.0, label = 'Полиномиальное приближение производной')\n",
    "ax.plot(P2_, dN2dP2, lw = 1.0, label = 'Производная')\n",
    "\n",
    "#hline_x = [0.0, 0.2]\n",
    "#hline_y = [0.0, 0.0]\n",
    "#ax.plot(hline_x, hline_y)\n",
    "\n",
    "ax.set_xlabel('Давление, тор')\n",
    "ax.set_ylabel('Частиц, шт')\n",
    "\n",
    "ax.legend(loc='upper right')\n",
    "plt.show();"
   ]
  },
  {
   "cell_type": "markdown",
   "metadata": {},
   "source": [
    "Точка перегиба имеет координату $130 \\pm 5$ тор, $2200 \\pm 20$ частиц. Это соответствует длине среднего пробега $9$ см. - расстоянию между препаратом и люминофором.\n",
    "\n",
    "Точка $220 \\pm 10$ тор, $180 \\pm 10$ частиц соответствует величине экстраполированного пробега $9$ см.\n",
    "\n",
    "Для величины пробега пользуемся соотношением $\\lambda = \\frac{1}{\\sqrt 2 n \\pi r^2}$, где $r$ - радиус альфа-частицы, $n$ - концентрация частиц воздуха. При этом $n = \\frac p{kT}$, $k$ - постоянная Больцмана, $T$ - температура, и $\\lambda = \\frac{kT}{\\sqrt 2 p \\pi r^2}$. Тогда $R_0 = \\frac {Rp}{p_0}$. Пересчет точек на $15^{\\circ}C$ даёт "
   ]
  },
  {
   "cell_type": "code",
   "execution_count": 14,
   "metadata": {},
   "outputs": [
    {
     "name": "stdout",
     "output_type": "stream",
     "text": [
      "R_2ср = 1.54 ± 0.06 см. - средний пробег.\n",
      "R_2э = 2.61 ± 0.12 см. - экстраполированный пробег.\n",
      "R_2ср = 0.0020 ± 0.0001 г/см^2. - средний пробег.\n",
      "R_2э = 0.0034 ± 0.0002 г/см^2. - экстраполированный пробег.\n"
     ]
    }
   ],
   "source": [
    "p2_1 = 130\n",
    "dp2_1 = 5\n",
    "p2_2 = 220\n",
    "dp2_2 = 10\n",
    "r2 = 9 #см - расстояние от препарата до прибора\n",
    "\n",
    "print('R_2ср = %.2f ± %.2f см. - средний пробег.' %(r2 * p2_1 / 760, r2 * dp2_1 / 760))\n",
    "print('R_2э = %.2f ± %.2f см. - экстраполированный пробег.' %(r2 * p2_2 / 760, r2 * dp2_2 / 760 ))\n",
    "\n",
    "print('R_2ср = %.4f ± %.4f г/см^2. - средний пробег.' %(rho * r2 * p2_1 / 760, rho * r2 * dp2_1 / 760))\n",
    "print('R_2э = %.4f ± %.4f г/см^2. - экстраполированный пробег.' %(rho * r2 * p2_2/ 760, rho * r2 * dp2_2 / 760))"
   ]
  },
  {
   "cell_type": "markdown",
   "metadata": {},
   "source": [
    "Напомним, что в первом опыте получились более длинные пробеги $R_{1ср} = 0.012 \\pm 0.002$ г/см^2, $R_{1э} = 0.0132 \\pm 0.0003$ г/см^2.\n",
    "\n",
    "Пусть $d$ - толщина слюды. Тогда, учитывая, что пробег альфа-частиц в слюде в $1.2$ раза больше аналогичного пробега в воздухе, получим уравнение $R_1 - R_2 = 1.2d(\\rho_{cлюда} - \\rho_{возд})$, или $d = \\frac {R_1 - R_2}{1.2(\\rho_{cлюда} - \\rho_{возд})}$. Для ответа в г/см^2 нужна формула $d = \\rho_{cлюда}\\frac {R_1 - R_2}{1.2(\\rho_{cлюда} - \\rho_{возд})}$."
   ]
  },
  {
   "cell_type": "code",
   "execution_count": 15,
   "metadata": {},
   "outputs": [
    {
     "name": "stdout",
     "output_type": "stream",
     "text": [
      "Толщина слюды равна 8.34 ± 1.67 мг/см^2.\n"
     ]
    }
   ],
   "source": [
    "rho2 = 2.77\n",
    "print('Толщина слюды равна %.2f ± %.2f мг/см^2.' %(1000 * rho2 * (0.012 - 0.002) / (1.2 * (rho2 - rho)), 1000 * rho2 * (0.002) / (1.2 * (rho2 - rho))))"
   ]
  },
  {
   "cell_type": "markdown",
   "metadata": {},
   "source": [
    "Определим энергию альфа-частиц по формуле $E = (\\frac R{0.32})^{\\frac 23}$, $\\delta E = (0.32)^{-\\frac 23} \\cdot \\frac 23 \\frac {\\delta R}{R^{\\frac 13}}$."
   ]
  },
  {
   "cell_type": "code",
   "execution_count": 16,
   "metadata": {},
   "outputs": [
    {
     "name": "stdout",
     "output_type": "stream",
     "text": [
      "Энергия альфа-частиц равна 4.05 ± 0.12 МэВ.\n"
     ]
    }
   ],
   "source": [
    "E2 = (2.61 / 0.32) ** (2 / 3)\n",
    "print('Энергия альфа-частиц равна %.2f ± %.2f МэВ.' %(E2, 0.32**(-2/3) * 2/3 * 0.12 / 2.61**(1/3)))"
   ]
  },
  {
   "cell_type": "markdown",
   "metadata": {},
   "source": [
    "Полученный результат отличается от эталонного $5.15$ МэВ на $25\\%$."
   ]
  },
  {
   "cell_type": "markdown",
   "metadata": {},
   "source": [
    "Оценим количество вещества в препарате по известному периоду полураспада, считая эффективность счёта альфа-частиц абсолютной. Телесный угол, под которым виден источник, составляет $\\Omega = 0.04$ ср.\n",
    "\n",
    "Если $N(t)$ - количество нераспавшихся частиц через время $t$ от момента создания вещества, то справедливо $N = N_0\\; 2^{-\\frac tT}$. $T$ - период полураспада, $N_0$ - исходное числоч частиц. $N_t' = =-\\frac 1T N_0 \\ln 2 2^{-\\frac tT}$. Полагая $t << T$, имеем $2^{-\\frac tT} \\approx 1 \\Longrightarrow N_t' =-\\frac 1T N_0 \\ln 2$. Полагая $\\Delta t = 1$ c и $\\Delta N = -380$ (такое число частиц испускается при нулевом давлении за $1$ с), имеем $\\frac {\\Omega}{4\\pi}\\Delta N = -\\Delta t \\frac 1T N_0 \\ln 2$, или $N_0 = -\\frac {\\Omega}{4\\pi\\ln 2 \\Delta t}\\Delta N T$."
   ]
  },
  {
   "cell_type": "code",
   "execution_count": 17,
   "metadata": {},
   "outputs": [
    {
     "name": "stdout",
     "output_type": "stream",
     "text": [
      "Всего частиц в веществе 1343699192895.\n"
     ]
    }
   ],
   "source": [
    "print('Всего частиц в веществе %.f.' %(0.04 * 380 * 2.44e4 * 365.25 * 24 * 3600 / (4 * np.pi * np.log(2) * 1)))"
   ]
  },
  {
   "cell_type": "markdown",
   "metadata": {},
   "source": [
    "Иными словами, $1.3 \\cdot 10^{12} частиц \\approx 2 \\cdot 10^{-12}$ моль."
   ]
  },
  {
   "cell_type": "markdown",
   "metadata": {},
   "source": [
    "## Исследование пробега $\\alpha$-частиц с помощью ионизационной камеры"
   ]
  },
  {
   "cell_type": "code",
   "execution_count": 18,
   "metadata": {},
   "outputs": [],
   "source": [
    "data3 = pandas.read_csv('data_III.csv', sep = ' ', header = 0, comment='#', dtype = np.float64)\n",
    "P3 = np.array(data3['P'])\n",
    "P3 = P3 * P_0 / (0.76 * 9.8 * 13600) #пересчет на наше атмосферное давление\n",
    "P3 = max(P3) - P3\n",
    "I3 = np.array(data3['I'])\n",
    "\n",
    "P3_cropped = [P3[i] for i in range(len(P3)) if 250 < P3[i] < 570]\n",
    "I3_cropped = [I3[i] for i in range(len(I3)) if 250 < P3[i] < 570]\n",
    "\n",
    "P3_cropped1 = [P3[i] for i in range(len(P3)) if 570 < P3[i]]\n",
    "I3_cropped1 = [I3[i] for i in range(len(I3)) if 570 < P3[i]]\n",
    "\n",
    "P3_opt = np.linspace(250, 590, 100)\n",
    "I3_coeffs = np.polyfit(P3_cropped, I3_cropped, 1)\n",
    "I3_opt = [np.polyval(I3_coeffs, i) for i in P3_opt]\n",
    "\n",
    "P3_opt1 = np.linspace(550, 740, 100)\n",
    "I3_coeffs1 = np.polyfit(P3_cropped1, I3_cropped1, 1)\n",
    "I3_opt1 = [np.polyval(I3_coeffs1, i) for i in P3_opt1]"
   ]
  },
  {
   "cell_type": "markdown",
   "metadata": {},
   "source": [
    "$P$ выражено в торах, $I$ - в пикоамперах."
   ]
  },
  {
   "cell_type": "code",
   "execution_count": 19,
   "metadata": {},
   "outputs": [
    {
     "data": {
      "text/html": [
       "<div>\n",
       "<style scoped>\n",
       "    .dataframe tbody tr th:only-of-type {\n",
       "        vertical-align: middle;\n",
       "    }\n",
       "\n",
       "    .dataframe tbody tr th {\n",
       "        vertical-align: top;\n",
       "    }\n",
       "\n",
       "    .dataframe thead th {\n",
       "        text-align: right;\n",
       "    }\n",
       "</style>\n",
       "<table border=\"1\" class=\"dataframe\">\n",
       "  <thead>\n",
       "    <tr style=\"text-align: right;\">\n",
       "      <th></th>\n",
       "      <th>P</th>\n",
       "      <th>I</th>\n",
       "    </tr>\n",
       "  </thead>\n",
       "  <tbody>\n",
       "    <tr>\n",
       "      <th>0</th>\n",
       "      <td>745.0</td>\n",
       "      <td>5.0</td>\n",
       "    </tr>\n",
       "    <tr>\n",
       "      <th>1</th>\n",
       "      <td>735.0</td>\n",
       "      <td>26.0</td>\n",
       "    </tr>\n",
       "    <tr>\n",
       "      <th>2</th>\n",
       "      <td>720.0</td>\n",
       "      <td>46.0</td>\n",
       "    </tr>\n",
       "    <tr>\n",
       "      <th>3</th>\n",
       "      <td>710.0</td>\n",
       "      <td>63.0</td>\n",
       "    </tr>\n",
       "    <tr>\n",
       "      <th>4</th>\n",
       "      <td>705.0</td>\n",
       "      <td>70.0</td>\n",
       "    </tr>\n",
       "    <tr>\n",
       "      <th>...</th>\n",
       "      <td>...</td>\n",
       "      <td>...</td>\n",
       "    </tr>\n",
       "    <tr>\n",
       "      <th>82</th>\n",
       "      <td>50.0</td>\n",
       "      <td>999.0</td>\n",
       "    </tr>\n",
       "    <tr>\n",
       "      <th>83</th>\n",
       "      <td>30.0</td>\n",
       "      <td>998.0</td>\n",
       "    </tr>\n",
       "    <tr>\n",
       "      <th>84</th>\n",
       "      <td>20.0</td>\n",
       "      <td>994.0</td>\n",
       "    </tr>\n",
       "    <tr>\n",
       "      <th>85</th>\n",
       "      <td>10.0</td>\n",
       "      <td>990.0</td>\n",
       "    </tr>\n",
       "    <tr>\n",
       "      <th>86</th>\n",
       "      <td>0.0</td>\n",
       "      <td>988.0</td>\n",
       "    </tr>\n",
       "  </tbody>\n",
       "</table>\n",
       "<p>87 rows × 2 columns</p>\n",
       "</div>"
      ],
      "text/plain": [
       "        P      I\n",
       "0   745.0    5.0\n",
       "1   735.0   26.0\n",
       "2   720.0   46.0\n",
       "3   710.0   63.0\n",
       "4   705.0   70.0\n",
       "..    ...    ...\n",
       "82   50.0  999.0\n",
       "83   30.0  998.0\n",
       "84   20.0  994.0\n",
       "85   10.0  990.0\n",
       "86    0.0  988.0\n",
       "\n",
       "[87 rows x 2 columns]"
      ]
     },
     "execution_count": 19,
     "metadata": {},
     "output_type": "execute_result"
    }
   ],
   "source": [
    "data3"
   ]
  },
  {
   "cell_type": "markdown",
   "metadata": {},
   "source": [
    "### График "
   ]
  },
  {
   "cell_type": "code",
   "execution_count": 20,
   "metadata": {
    "scrolled": false
   },
   "outputs": [
    {
     "data": {
      "image/png": "[encoded data removed]",
      "text/plain": [
       "<Figure size 1152x720 with 1 Axes>"
      ]
     },
     "metadata": {
      "needs_background": "light"
     },
     "output_type": "display_data"
    }
   ],
   "source": [
    "import matplotlib\n",
    "from matplotlib import pyplot as plt\n",
    "\n",
    "font = {'family' : 'Liberation Sans',\n",
    "        'weight' : 'normal',\n",
    "        'size'   : 16}\n",
    "\n",
    "matplotlib.rc('font', **font)\n",
    "\n",
    "fig, ax = plt.subplots()\n",
    "\n",
    "ax.set_title(\"Зависимость тока от давления\")\n",
    "\n",
    "fig.set_figheight(10)\n",
    "fig.set_figwidth(16)\n",
    "\n",
    "#ax.set_xscale('log', basex=10)\n",
    "#ax.set_yscale('log', basey=10)\n",
    "\n",
    "ax.grid(color='#000000', alpha=0.15, linestyle='-', linewidth=1, which='major')\n",
    "ax.grid(color='#000000', alpha=0.1, linestyle='-', linewidth=0.5, which='minor')\n",
    "ax.xaxis.set_minor_locator(matplotlib.ticker.AutoMinorLocator())\n",
    "ax.yaxis.set_minor_locator(matplotlib.ticker.AutoMinorLocator())\n",
    "\n",
    "ax.errorbar(P3, I3, xerr = deltaP, yerr = 2,\n",
    "           ls = '', lw = 1.0, marker = 'x', solid_capstyle='projecting', capsize = 3)\n",
    "\n",
    "#ax.plot(P3, I3, lw = 1.0)\n",
    "ax.plot(P3_opt, I3_opt, lw = 2.0, label = 'Аппроксимация слева')\n",
    "ax.plot(P3_opt1, I3_opt1, lw = 2.0, label = 'Аппроксимация справа')\n",
    "\n",
    "#hline_x = [0.0, 0.2]\n",
    "#hline_y = [0.0, 0.0]\n",
    "#ax.plot(hline_x, hline_y)\n",
    "\n",
    "ax.set_xlabel('Давление, тор')\n",
    "ax.set_ylabel('Ток I, пкА')\n",
    "\n",
    "ax.legend(loc='upper left')\n",
    "plt.show();"
   ]
  },
  {
   "cell_type": "markdown",
   "metadata": {},
   "source": [
    "Из графика видно, что $P_0 = 555 \\pm 5$ бар. Пользуемся $R_0 = \\frac {Rp}{p_0}$:"
   ]
  },
  {
   "cell_type": "code",
   "execution_count": 21,
   "metadata": {},
   "outputs": [
    {
     "name": "stdout",
     "output_type": "stream",
     "text": [
      "R_3э = 7.30 ± 0.07 см. - экстраполированный пробег.\n",
      "R_3э = 0.0094 ± 0.0001 г/см^2. - экстраполированный пробег.\n"
     ]
    }
   ],
   "source": [
    "r3 = 10\n",
    "p3 = 555\n",
    "dp3 = 5\n",
    "print('R_3э = %.2f ± %.2f см. - экстраполированный пробег.' %(r3 * p3 / 760, r3 * dp3 / 760 ))\n",
    "print('R_3э = %.4f ± %.4f г/см^2. - экстраполированный пробег.' %(rho * r3 * p3/ 760, rho * r3 * dp3 / 760))"
   ]
  },
  {
   "cell_type": "code",
   "execution_count": 22,
   "metadata": {},
   "outputs": [
    {
     "name": "stdout",
     "output_type": "stream",
     "text": [
      "Энергия альфа-частиц равна 8.04 ± 0.05 МэВ.\n"
     ]
    }
   ],
   "source": [
    "E3 = (7.3 / 0.32) ** (2 / 3)\n",
    "print('Энергия альфа-частиц равна %.2f ± %.2f МэВ.' %(E3, 0.32**(-2/3) * 2/3 * 0.07 / 7.3**(1/3)))"
   ]
  },
  {
   "cell_type": "markdown",
   "metadata": {},
   "source": [
    "На $75\\%$ отличается от табличного значения.\n",
    "\n",
    "По этому результату оценим, бумажный листок какой толщины не пропустит такую альфа-частицу. В таблице $V.3$ обнаруживаем, что для частиц с энергией $8$ МэВ. Пробег в $Al$ в биологической составляет ткани - $78.0$ мкм. Лист бумаги по механическим свойствам похож на биологическую ткань, но более жесктий. Потому можно утверждать, что лист толщиной $78.0$ мкм выдержит испытание альфа-частицами из нашего опыта."
   ]
  },
  {
   "cell_type": "markdown",
   "metadata": {},
   "source": [
    "# Сопоставление результатов\n",
    "\n",
    "Были получены следующие результаты:\n",
    " - $R_{ср1} = 9.1 \\pm 1.4$ cм, $R_{э1} = 10.2 \\pm 0.5$ см, $R_{1ср} = 0.012 \\pm 0.002$ г/см^2, $R_{1э} = 0.0132 \\pm 0.0003$ г/см^2.\n",
    " \n",
    " - $R_{2ср} = 1.54 \\pm 0.06$ см. - средний пробег, $R_{2э} = 2.61 \\pm 0.12$ см. - экстраполированный пробег, $R_{2ср} = 0.0020 \\pm 0.0001$ г/см^2. - средний пробег, $R_{2э} = 0.0034 \\pm 0.0002$ г/см^2. - экстраполированный пробег.\n",
    " \n",
    " - $R_{3э} = 7.30 \\pm 0.07$ см. - экстраполированный пробег, $R_{3э} = 0.0094 \\pm 0.0001$ г/см^2. - экстраполированный пробег.\n",
    " \n",
    "Первые два результата различаются из-за наличия в первом случае слоя слюды. Второй и третий отличаются в $3$ раза.\n",
    "\n",
    "Первый метод представляется неточным в силу того, что там не был получен график с хорошо выраженной тчокой перегиба. \n",
    "\n",
    "Третий метод представляется наиболее достоверным, поскольку для него измерено много точек, которые хорошо ложатся на прямые, не то что во втором методе какая-то прыгающая производная. Тем не менее, результаты по энергии более близкие к истине даёт второй метод."
   ]
  },
  {
   "cell_type": "markdown",
   "metadata": {},
   "source": [
    "# Выводы\n",
    "\n",
    "1. Тремя способами измерена длина пробега альфа-частиц в воздухе, результаты в разделе выше.\n",
    "2. Двумя способами определены энергии вылетающих частиц - $4.05 \\pm 0.12$ МэВ, $8.04 \\pm 0.05$ МэВ.\n",
    "3. Вычислена толщина слюды, находящаяся в приборе из первого опыта $8.34 \\pm 1.67 \\frac {мг}{см^2}$.\n",
    "4. Оценено количество вещества во втором опыте $\\approx 2 \\cdot 10^{-12}$ моль.\n",
    "5. Построены графики $N(x), \\; N(P), \\; I(P)$."
   ]
  }
 ],
 "metadata": {
  "kernelspec": {
   "display_name": "Python 3",
   "language": "python",
   "name": "python3"
  },
  "language_info": {
   "codemirror_mode": {
    "name": "ipython",
    "version": 3
   },
   "file_extension": ".py",
   "mimetype": "text/x-python",
   "name": "python",
   "nbconvert_exporter": "python",
   "pygments_lexer": "ipython3",
   "version": "3.7.3"
  }
 },
 "nbformat": 4,
 "nbformat_minor": 2
}
