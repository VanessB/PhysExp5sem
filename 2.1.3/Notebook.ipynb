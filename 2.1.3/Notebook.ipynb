{
 "cells": [
  {
   "cell_type": "markdown",
   "metadata": {},
   "source": [
    "# 2.1.3  Опыт Франка-Герца\n",
    "### Бутаков Иван, Гладков Андрей; Б05-871\n",
    "\n",
    "\n",
    "**Цель работы**: методом электронного возбуждения измеряется энергия первого уровня атома гелия в динамическом и статическом режимах.\n",
    "\n",
    "**Оборудование:** гелий, третрехэлектродная лампа, вольфрамовый катод, выпрямитель, потенциометрвольтметр, микроамперметр.\n",
    "\n"
   ]
  },
  {
   "cell_type": "markdown",
   "metadata": {},
   "source": [
    "## Теоретическая часть\n",
    "\n",
    "Гелий заполняет трехэлектродную лампу. Электроны, испускаемые разогретым катодом, ускоряются в постоянном электрическом поле, созданном между катодом и сетчатым электродом лампы. Двигаясь, они сталкиваются с атомами гелия. Если энергия налетающего электрона недостаточна для возбуждения или ионизации атома, то происходит упругое соударение.\n",
    "\n",
    "При увеличении разности потенциалов энергия электронов увеличивается и становится достаточной для возбуждения атомов.\n",
    "\n",
    "Третьм электродом лампы является коллектор. Между ним и анодом поддерживается небольшое задерживающее напряжение (потенциал коллектора меньше потенциала анода). Ток коллектора, пропорциональный числу попадающих на него за секунду электронов, измеряется микроамперметром.\n",
    "\n",
    "При увеличении потенциала анода ток в лампе вначале растет, однако при достижении энергии возбуждения электронов коллекторный ток резко снижается. Это происходит потому, что при неупругих соударениях с атомами электроны почти полностью теряют\n",
    "свою энергию и не могут преодолеть задерживающего потенциала между анодом и коллектором. При дальнейшем увеличении потенциала анода ток коллектора вновь возрастает: электроны, испытавшие неупругие соударения, при дальнейшем движении к аноду успевают набрать энергию, достаточную для преодоления задерживающего потенциала.\n",
    "\n",
    "\n",
    "Следующее замедление роста тока происходит в момент, когда часть электронов неупруго сталкивается с атомами два раза: первый раз посередине пути,\n",
    "второй - у анода, и т.д. Таким образом, на кривой зависимости тока коллектора от напряжения анода имеется ряд максимумов и минимумов, отстоящих друг от друга на равные расстояния V, эти расстояния равны энергии первого\n",
    "возбуждённого состояния.\n",
    "\n",
    "В работе измеряется энергия первого уровня атома гелия в динамическом и статическом режимах."
   ]
  },
  {
   "cell_type": "markdown",
   "metadata": {},
   "source": [
    "## Статический режим"
   ]
  },
  {
   "cell_type": "code",
   "execution_count": 1,
   "metadata": {},
   "outputs": [],
   "source": [
    "import pandas\n",
    "import numpy as np"
   ]
  },
  {
   "cell_type": "code",
   "execution_count": 2,
   "metadata": {},
   "outputs": [],
   "source": [
    "# Опыты.\n",
    "data_4V_st = pandas.read_csv('4V.csv', delim_whitespace=True, header = 0, comment='#', dtype = np.float64)\n",
    "data_8V_st = pandas.read_csv('8V.csv', delim_whitespace=True, header = 0, comment='#', dtype = np.float64)\n",
    "\n",
    "#Цена деления амперметра в мА\n",
    "I_div = 10e-3\n",
    "data_4V_st.insert(2, \"I\", data_4V_st[\"I_дел\"] * I_div)\n",
    "data_8V_st.insert(2, \"I\", data_8V_st[\"I_дел\"] * I_div)"
   ]
  },
  {
   "cell_type": "markdown",
   "metadata": {},
   "source": [
    "### Обозначения\n",
    "\n",
    "$U$ - в вольтах, $I$ - в миллиамперах."
   ]
  },
  {
   "cell_type": "code",
   "execution_count": 3,
   "metadata": {},
   "outputs": [
    {
     "data": {
      "text/html": [
       "<div>\n",
       "<style scoped>\n",
       "    .dataframe tbody tr th:only-of-type {\n",
       "        vertical-align: middle;\n",
       "    }\n",
       "\n",
       "    .dataframe tbody tr th {\n",
       "        vertical-align: top;\n",
       "    }\n",
       "\n",
       "    .dataframe thead th {\n",
       "        text-align: right;\n",
       "    }\n",
       "</style>\n",
       "<table border=\"1\" class=\"dataframe\">\n",
       "  <thead>\n",
       "    <tr style=\"text-align: right;\">\n",
       "      <th></th>\n",
       "      <th>U</th>\n",
       "      <th>I_дел</th>\n",
       "      <th>I</th>\n",
       "    </tr>\n",
       "  </thead>\n",
       "  <tbody>\n",
       "    <tr>\n",
       "      <th>0</th>\n",
       "      <td>0.05</td>\n",
       "      <td>0.0</td>\n",
       "      <td>0.00</td>\n",
       "    </tr>\n",
       "    <tr>\n",
       "      <th>1</th>\n",
       "      <td>2.10</td>\n",
       "      <td>2.0</td>\n",
       "      <td>0.02</td>\n",
       "    </tr>\n",
       "    <tr>\n",
       "      <th>2</th>\n",
       "      <td>4.03</td>\n",
       "      <td>4.0</td>\n",
       "      <td>0.04</td>\n",
       "    </tr>\n",
       "    <tr>\n",
       "      <th>3</th>\n",
       "      <td>6.08</td>\n",
       "      <td>7.0</td>\n",
       "      <td>0.07</td>\n",
       "    </tr>\n",
       "    <tr>\n",
       "      <th>4</th>\n",
       "      <td>8.03</td>\n",
       "      <td>10.0</td>\n",
       "      <td>0.10</td>\n",
       "    </tr>\n",
       "    <tr>\n",
       "      <th>...</th>\n",
       "      <td>...</td>\n",
       "      <td>...</td>\n",
       "      <td>...</td>\n",
       "    </tr>\n",
       "    <tr>\n",
       "      <th>56</th>\n",
       "      <td>46.22</td>\n",
       "      <td>34.0</td>\n",
       "      <td>0.34</td>\n",
       "    </tr>\n",
       "    <tr>\n",
       "      <th>57</th>\n",
       "      <td>47.10</td>\n",
       "      <td>34.0</td>\n",
       "      <td>0.34</td>\n",
       "    </tr>\n",
       "    <tr>\n",
       "      <th>58</th>\n",
       "      <td>48.07</td>\n",
       "      <td>35.0</td>\n",
       "      <td>0.35</td>\n",
       "    </tr>\n",
       "    <tr>\n",
       "      <th>59</th>\n",
       "      <td>49.13</td>\n",
       "      <td>36.0</td>\n",
       "      <td>0.36</td>\n",
       "    </tr>\n",
       "    <tr>\n",
       "      <th>60</th>\n",
       "      <td>50.19</td>\n",
       "      <td>37.0</td>\n",
       "      <td>0.37</td>\n",
       "    </tr>\n",
       "  </tbody>\n",
       "</table>\n",
       "<p>61 rows × 3 columns</p>\n",
       "</div>"
      ],
      "text/plain": [
       "        U  I_дел     I\n",
       "0    0.05    0.0  0.00\n",
       "1    2.10    2.0  0.02\n",
       "2    4.03    4.0  0.04\n",
       "3    6.08    7.0  0.07\n",
       "4    8.03   10.0  0.10\n",
       "..    ...    ...   ...\n",
       "56  46.22   34.0  0.34\n",
       "57  47.10   34.0  0.34\n",
       "58  48.07   35.0  0.35\n",
       "59  49.13   36.0  0.36\n",
       "60  50.19   37.0  0.37\n",
       "\n",
       "[61 rows x 3 columns]"
      ]
     },
     "execution_count": 3,
     "metadata": {},
     "output_type": "execute_result"
    }
   ],
   "source": [
    "data_4V_st"
   ]
  },
  {
   "cell_type": "code",
   "execution_count": 4,
   "metadata": {
    "scrolled": false
   },
   "outputs": [
    {
     "data": {
      "text/html": [
       "<div>\n",
       "<style scoped>\n",
       "    .dataframe tbody tr th:only-of-type {\n",
       "        vertical-align: middle;\n",
       "    }\n",
       "\n",
       "    .dataframe tbody tr th {\n",
       "        vertical-align: top;\n",
       "    }\n",
       "\n",
       "    .dataframe thead th {\n",
       "        text-align: right;\n",
       "    }\n",
       "</style>\n",
       "<table border=\"1\" class=\"dataframe\">\n",
       "  <thead>\n",
       "    <tr style=\"text-align: right;\">\n",
       "      <th></th>\n",
       "      <th>U</th>\n",
       "      <th>I_дел</th>\n",
       "      <th>I</th>\n",
       "    </tr>\n",
       "  </thead>\n",
       "  <tbody>\n",
       "    <tr>\n",
       "      <th>0</th>\n",
       "      <td>0.05</td>\n",
       "      <td>0.0</td>\n",
       "      <td>0.000</td>\n",
       "    </tr>\n",
       "    <tr>\n",
       "      <th>1</th>\n",
       "      <td>2.20</td>\n",
       "      <td>0.0</td>\n",
       "      <td>0.000</td>\n",
       "    </tr>\n",
       "    <tr>\n",
       "      <th>2</th>\n",
       "      <td>4.02</td>\n",
       "      <td>0.0</td>\n",
       "      <td>0.000</td>\n",
       "    </tr>\n",
       "    <tr>\n",
       "      <th>3</th>\n",
       "      <td>6.37</td>\n",
       "      <td>3.0</td>\n",
       "      <td>0.030</td>\n",
       "    </tr>\n",
       "    <tr>\n",
       "      <th>4</th>\n",
       "      <td>8.05</td>\n",
       "      <td>5.0</td>\n",
       "      <td>0.050</td>\n",
       "    </tr>\n",
       "    <tr>\n",
       "      <th>...</th>\n",
       "      <td>...</td>\n",
       "      <td>...</td>\n",
       "      <td>...</td>\n",
       "    </tr>\n",
       "    <tr>\n",
       "      <th>59</th>\n",
       "      <td>52.12</td>\n",
       "      <td>16.0</td>\n",
       "      <td>0.160</td>\n",
       "    </tr>\n",
       "    <tr>\n",
       "      <th>60</th>\n",
       "      <td>53.09</td>\n",
       "      <td>17.0</td>\n",
       "      <td>0.170</td>\n",
       "    </tr>\n",
       "    <tr>\n",
       "      <th>61</th>\n",
       "      <td>54.32</td>\n",
       "      <td>18.0</td>\n",
       "      <td>0.180</td>\n",
       "    </tr>\n",
       "    <tr>\n",
       "      <th>62</th>\n",
       "      <td>55.06</td>\n",
       "      <td>18.5</td>\n",
       "      <td>0.185</td>\n",
       "    </tr>\n",
       "    <tr>\n",
       "      <th>63</th>\n",
       "      <td>56.22</td>\n",
       "      <td>20.0</td>\n",
       "      <td>0.200</td>\n",
       "    </tr>\n",
       "  </tbody>\n",
       "</table>\n",
       "<p>64 rows × 3 columns</p>\n",
       "</div>"
      ],
      "text/plain": [
       "        U  I_дел      I\n",
       "0    0.05    0.0  0.000\n",
       "1    2.20    0.0  0.000\n",
       "2    4.02    0.0  0.000\n",
       "3    6.37    3.0  0.030\n",
       "4    8.05    5.0  0.050\n",
       "..    ...    ...    ...\n",
       "59  52.12   16.0  0.160\n",
       "60  53.09   17.0  0.170\n",
       "61  54.32   18.0  0.180\n",
       "62  55.06   18.5  0.185\n",
       "63  56.22   20.0  0.200\n",
       "\n",
       "[64 rows x 3 columns]"
      ]
     },
     "execution_count": 4,
     "metadata": {},
     "output_type": "execute_result"
    }
   ],
   "source": [
    "data_8V_st"
   ]
  },
  {
   "cell_type": "markdown",
   "metadata": {},
   "source": [
    "### Погрешность"
   ]
  },
  {
   "cell_type": "code",
   "execution_count": 5,
   "metadata": {},
   "outputs": [],
   "source": [
    "#Для электронного вольтметра\n",
    "delta_U = 0.01\n",
    "delta_I = 0.5 * I_div"
   ]
  },
  {
   "cell_type": "markdown",
   "metadata": {},
   "source": [
    "### График"
   ]
  },
  {
   "cell_type": "code",
   "execution_count": 12,
   "metadata": {},
   "outputs": [
    {
     "data": {
      "image/png": "[encoded data removed]",
      "text/plain": [
       "<Figure size 1152x720 with 1 Axes>"
      ]
     },
     "metadata": {
      "needs_background": "light"
     },
     "output_type": "display_data"
    }
   ],
   "source": [
    "import matplotlib\n",
    "from matplotlib import pyplot as plt\n",
    "\n",
    "font = {'family' : 'Liberation Sans',\n",
    "        'weight' : 'normal',\n",
    "        'size'   : 16}\n",
    "\n",
    "matplotlib.rc('font', **font)\n",
    "\n",
    "fig, ax = plt.subplots()\n",
    "\n",
    "ax.set_title(\"Зависимость коллекторного тока от анодного напряжения в статическом методе\")\n",
    "\n",
    "fig.set_figheight(10)\n",
    "fig.set_figwidth(16)\n",
    "\n",
    "ax.grid(color='#000000', alpha=0.15, linestyle='-', linewidth=1, which='major')\n",
    "ax.grid(color='#000000', alpha=0.1, linestyle='-', linewidth=0.5, which='minor')\n",
    "ax.xaxis.set_minor_locator(matplotlib.ticker.AutoMinorLocator())\n",
    "ax.yaxis.set_minor_locator(matplotlib.ticker.AutoMinorLocator())\n",
    "\n",
    "ax.errorbar(data_4V_st['U'], data_4V_st['I'], xerr = delta_U, yerr = delta_I,\n",
    "            ls = '', lw = 1.0, marker = 'x', solid_capstyle='projecting', capsize = 3, label = '4 В')\n",
    "\n",
    "ax.errorbar(data_8V_st['U'], data_8V_st['I'], xerr = delta_U, yerr = delta_I,\n",
    "            ls = '', lw = 1.0, marker = 'x', solid_capstyle='projecting', capsize = 3, label = '8 В')\n",
    "\n",
    "ax.set_xlim(left = -2.0)\n",
    "\n",
    "ax.set_xlabel('Напряжение, В')\n",
    "ax.set_ylabel('Ток, мА')\n",
    "\n",
    "ax.legend(loc='upper left')\n",
    "plt.show();"
   ]
  },
  {
   "cell_type": "code",
   "execution_count": 7,
   "metadata": {},
   "outputs": [
    {
     "name": "stdout",
     "output_type": "stream",
     "text": [
      "Отобразим точки плато:\n",
      "\n",
      "        U  I_дел     I\n",
      "40  35.95   39.0  0.39\n",
      "41  36.25   39.0  0.39\n",
      "42  36.92   39.0  0.39\n",
      "43  37.46   39.0  0.39\n",
      "44  38.10   39.0  0.39\n",
      "45  38.83   39.0  0.39\n",
      "46  39.11   39.0  0.39\n",
      "\n",
      "        U  I_дел     I\n",
      "41  37.21   24.0  0.24\n",
      "42  38.10   24.0  0.24\n",
      "43  38.93   24.0  0.24\n",
      "44  39.98   24.0  0.24\n",
      "\n",
      "Длина плато для 4 В равна 3.16, прибавка к погрешности 1.58 В\n",
      "Длина плато для 8 В равна 2.77, прибавка к погрешности 1.38 В\n",
      "\n",
      "4Vmax_2 = 19.27, 8Vmax_2 = 19.01\n",
      "4Vmax_2 = 37.52, 8Vmax_2 = 38.55\n",
      "\n",
      "Расстояние между максимумами для 4 В равно 18.25 В\n",
      "Расстояние между максимумами для 8 В равно 19.54 В\n"
     ]
    }
   ],
   "source": [
    "#В качестве максимума берем точку с максимальным измеренным значением тока\n",
    "data_4V_st_1 = data_4V_st[data_4V_st['U'] < 24]\n",
    "data_8V_st_1 = data_8V_st[data_8V_st['U'] < 24]\n",
    "\n",
    "data_4V_st_2 = data_4V_st[np.abs(data_4V_st['I'] - 0.39) < delta_I]\n",
    "data_8V_st_2 = data_8V_st[np.abs(data_8V_st['I'] - 0.24) < delta_I]\n",
    "\n",
    "#Поскольку около второго максимума имеется плато, то мы отождествляем точки со значением тока, находящимся\n",
    "#в пределах погрешности от максимума, и в качестве ответа выдаем среднее напряжение\n",
    "\n",
    "print('Отобразим точки плато:')\n",
    "print('')\n",
    "print (data_4V_st_2)\n",
    "print('')\n",
    "print (data_8V_st_2)\n",
    "print('')\n",
    "plato4V = data_4V_st_2['U'].values[data_4V_st_2['U'].values.argmax()] - data_4V_st_2['U'].values[data_4V_st_2['U'].values.argmin()]\n",
    "plato8V = data_8V_st_2['U'].values[data_8V_st_2['U'].values.argmax()] - data_8V_st_2['U'].values[data_8V_st_2['U'].values.argmin()]\n",
    "print('Длина плато для 4 В равна %2.2f, прибавка к погрешности %2.2f В' %(plato4V, plato4V / 2))\n",
    "print('Длина плато для 8 В равна %2.2f, прибавка к погрешности %2.2f В' %(plato8V, plato8V / 2))\n",
    "print('')\n",
    "\n",
    "max1V4 = data_4V_st_1['U'].values[data_4V_st_1['I'].values.argmax()]\n",
    "max1V8 = data_8V_st_1['U'].values[data_8V_st_1['I'].values.argmax()]\n",
    "print ('4Vmax_2 = %2.2f, 8Vmax_2 = %2.2f' % (max1V4, max1V8))\n",
    "\n",
    "#max2V4 = data_4V_st_2['U'].values[data_4V_st_2['I'].values.argmax()]\n",
    "#max2V8 = data_8V_st_2['U'].values[data_8V_st_2['I'].values.argmax()]\n",
    "max2V4 = data_4V_st_2['U'].values.mean()\n",
    "max2V8 = data_8V_st_2['U'].values.mean()\n",
    "print ('4Vmax_2 = %2.2f, 8Vmax_2 = %2.2f' %(max2V4, max2V8))\n",
    "\n",
    "delta4V = max2V4 - max1V4\n",
    "delta8V = max2V8 - max1V8\n",
    "\n",
    "print('')\n",
    "print(\"Расстояние между максимумами для 4 В равно %2.2f В\" %(delta4V))\n",
    "print(\"Расстояние между максимумами для 8 В равно %2.2f В\" %(delta8V))"
   ]
  },
  {
   "cell_type": "markdown",
   "metadata": {},
   "source": [
    "Поскольку в случае второго максимума имелось плато, то существует большая неопределенность в точном определении максимума. В связи с этим разумно увеличить погрешность на половину длины плато.\n",
    "\n",
    "С учетом погрешности результат можно записать так:\n",
    "\n",
    "$\\Delta V_{4V} = 18.25 \\pm 1.60$ В.\n",
    "\n",
    "$\\Delta V_{8V} = 19.54 \\pm 1.40$ В."
   ]
  },
  {
   "cell_type": "markdown",
   "metadata": {},
   "source": [
    "## Динамический режим\n"
   ]
  },
  {
   "cell_type": "code",
   "execution_count": 8,
   "metadata": {},
   "outputs": [],
   "source": [
    "data_4V_dyn = pandas.read_csv('4V.txt', delim_whitespace=True, header = 0, comment='#', dtype = np.float64)\n",
    "data_8V_dyn = pandas.read_csv('8V.txt', delim_whitespace=True, header = 0, comment='#', dtype = np.float64)\n",
    "\n",
    "data_4V_dyn.insert(2, \"Comment\", ['1st max', '1st min', '2nd max', '2nd min'])\n",
    "data_8V_dyn.insert(2, \"Comment\", ['1st max', '1st min', '2nd max', '2nd min'])"
   ]
  },
  {
   "cell_type": "markdown",
   "metadata": {},
   "source": [
    "$X, Y$ - абсцисса и ордината соответствующей точки в вольтах"
   ]
  },
  {
   "cell_type": "code",
   "execution_count": 9,
   "metadata": {},
   "outputs": [
    {
     "data": {
      "text/html": [
       "<div>\n",
       "<style scoped>\n",
       "    .dataframe tbody tr th:only-of-type {\n",
       "        vertical-align: middle;\n",
       "    }\n",
       "\n",
       "    .dataframe tbody tr th {\n",
       "        vertical-align: top;\n",
       "    }\n",
       "\n",
       "    .dataframe thead th {\n",
       "        text-align: right;\n",
       "    }\n",
       "</style>\n",
       "<table border=\"1\" class=\"dataframe\">\n",
       "  <thead>\n",
       "    <tr style=\"text-align: right;\">\n",
       "      <th></th>\n",
       "      <th>X</th>\n",
       "      <th>Y</th>\n",
       "      <th>Comment</th>\n",
       "    </tr>\n",
       "  </thead>\n",
       "  <tbody>\n",
       "    <tr>\n",
       "      <th>0</th>\n",
       "      <td>17.5</td>\n",
       "      <td>-0.002</td>\n",
       "      <td>1st max</td>\n",
       "    </tr>\n",
       "    <tr>\n",
       "      <th>1</th>\n",
       "      <td>22.5</td>\n",
       "      <td>0.009</td>\n",
       "      <td>1st min</td>\n",
       "    </tr>\n",
       "    <tr>\n",
       "      <th>2</th>\n",
       "      <td>35.0</td>\n",
       "      <td>0.005</td>\n",
       "      <td>2nd max</td>\n",
       "    </tr>\n",
       "    <tr>\n",
       "      <th>3</th>\n",
       "      <td>40.5</td>\n",
       "      <td>0.002</td>\n",
       "      <td>2nd min</td>\n",
       "    </tr>\n",
       "  </tbody>\n",
       "</table>\n",
       "</div>"
      ],
      "text/plain": [
       "      X      Y  Comment\n",
       "0  17.5 -0.002  1st max\n",
       "1  22.5  0.009  1st min\n",
       "2  35.0  0.005  2nd max\n",
       "3  40.5  0.002  2nd min"
      ]
     },
     "execution_count": 9,
     "metadata": {},
     "output_type": "execute_result"
    }
   ],
   "source": [
    "#4V\n",
    "data_4V_dyn"
   ]
  },
  {
   "cell_type": "code",
   "execution_count": 10,
   "metadata": {},
   "outputs": [
    {
     "data": {
      "text/html": [
       "<div>\n",
       "<style scoped>\n",
       "    .dataframe tbody tr th:only-of-type {\n",
       "        vertical-align: middle;\n",
       "    }\n",
       "\n",
       "    .dataframe tbody tr th {\n",
       "        vertical-align: top;\n",
       "    }\n",
       "\n",
       "    .dataframe thead th {\n",
       "        text-align: right;\n",
       "    }\n",
       "</style>\n",
       "<table border=\"1\" class=\"dataframe\">\n",
       "  <thead>\n",
       "    <tr style=\"text-align: right;\">\n",
       "      <th></th>\n",
       "      <th>X</th>\n",
       "      <th>Y</th>\n",
       "      <th>Comment</th>\n",
       "    </tr>\n",
       "  </thead>\n",
       "  <tbody>\n",
       "    <tr>\n",
       "      <th>0</th>\n",
       "      <td>19.0</td>\n",
       "      <td>0.0050</td>\n",
       "      <td>1st max</td>\n",
       "    </tr>\n",
       "    <tr>\n",
       "      <th>1</th>\n",
       "      <td>25.0</td>\n",
       "      <td>-0.0030</td>\n",
       "      <td>1st min</td>\n",
       "    </tr>\n",
       "    <tr>\n",
       "      <th>2</th>\n",
       "      <td>34.0</td>\n",
       "      <td>0.0085</td>\n",
       "      <td>2nd max</td>\n",
       "    </tr>\n",
       "    <tr>\n",
       "      <th>3</th>\n",
       "      <td>42.0</td>\n",
       "      <td>0.0040</td>\n",
       "      <td>2nd min</td>\n",
       "    </tr>\n",
       "  </tbody>\n",
       "</table>\n",
       "</div>"
      ],
      "text/plain": [
       "      X       Y  Comment\n",
       "0  19.0  0.0050  1st max\n",
       "1  25.0 -0.0030  1st min\n",
       "2  34.0  0.0085  2nd max\n",
       "3  42.0  0.0040  2nd min"
      ]
     },
     "execution_count": 10,
     "metadata": {},
     "output_type": "execute_result"
    }
   ],
   "source": [
    "#8V\n",
    "data_8V_dyn"
   ]
  },
  {
   "cell_type": "code",
   "execution_count": 11,
   "metadata": {},
   "outputs": [
    {
     "name": "stdout",
     "output_type": "stream",
     "text": [
      "Расстояние между 1 и 2 максимумами для задерж. напряжения 4 В равно 17.50 В\n",
      "Расстояние между 1 и 2 максимумами для задерж. напряжения 8 В равно 15.00 В\n"
     ]
    }
   ],
   "source": [
    "delta_4V = data_4V_dyn['X'][2] - data_4V_dyn['X'][0]\n",
    "print(\"Расстояние между 1 и 2 максимумами для задерж. напряжения 4 В равно %2.2f В\" %(delta_4V))\n",
    "delta_8V = data_8V_dyn['X'][2] - data_8V_dyn['X'][0]\n",
    "print(\"Расстояние между 1 и 2 максимумами для задерж. напряжения 8 В равно %2.2f В\" %(delta_8V))"
   ]
  },
  {
   "cell_type": "markdown",
   "metadata": {},
   "source": [
    "Погрешность определялась с точностью примерно $1$ В. \n",
    "С учетом погрешности результат можно записать так:\n",
    "\n",
    "$\\Delta V_{4V} = 18 \\pm 1$ В.\n",
    "\n",
    "$\\Delta V_{8V} = 15 \\pm 1$ В."
   ]
  },
  {
   "cell_type": "markdown",
   "metadata": {},
   "source": [
    "## Выводы\n",
    "\n",
    "1. Сняты зависимости коллекторного тока от напряжения в статическом методе для напряжений $4$ B, $8$ B, построен соответствующий график.\n",
    "2. Статическим методом получены следующие значения энергии возбуждения атома гелия: $18.25 \\pm 1.60$ эB, $19.54 \\pm 1.40$ эВ.\n",
    "3. Динамическим методом получены следующие значения энергии возбуждения атома гелия: $18 \\pm 1$ эВ, $15 \\pm 1$ эВ.\n",
    "4. Более опытные экспериментары установили, что гелию для возбуждения достаточно $19.82$ эВ. Видно, что статический метод в пределах погрешности совпадает с этим значением, в то время как динамический дает пусть и не слишком драматически, но заниженные значения.\n",
    "\n",
    "Полученные результаты демонстрируют дискретность уровней энергии в атоме гелия."
   ]
  }
 ],
 "metadata": {
  "kernelspec": {
   "display_name": "Python 3",
   "language": "python",
   "name": "python3"
  },
  "language_info": {
   "codemirror_mode": {
    "name": "ipython",
    "version": 3
   },
   "file_extension": ".py",
   "mimetype": "text/x-python",
   "name": "python",
   "nbconvert_exporter": "python",
   "pygments_lexer": "ipython3",
   "version": "3.7.3"
  }
 },
 "nbformat": 4,
 "nbformat_minor": 2
}
